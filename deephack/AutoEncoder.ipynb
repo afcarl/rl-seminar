{
 "cells": [
  {
   "cell_type": "markdown",
   "metadata": {},
   "source": [
    "# AutoEncoder for feature extraction from Atari Skiing game screenshots"
   ]
  },
  {
   "cell_type": "code",
   "execution_count": 119,
   "metadata": {
    "collapsed": true
   },
   "outputs": [],
   "source": [
    "import gym\n",
    "import time\n",
    "import numpy as np\n",
    "import matplotlib.pyplot as plt\n",
    "seed = 417\n",
    "%matplotlib inline"
   ]
  },
  {
   "cell_type": "code",
   "execution_count": 120,
   "metadata": {
    "collapsed": false
   },
   "outputs": [],
   "source": [
    "from keras import backend as K\n",
    "K.set_image_dim_ordering('th')"
   ]
  },
  {
   "cell_type": "markdown",
   "metadata": {},
   "source": [
    "### Collect 20000 samples"
   ]
  },
  {
   "cell_type": "code",
   "execution_count": 121,
   "metadata": {
    "collapsed": true
   },
   "outputs": [
    {
     "name": "stderr",
     "output_type": "stream",
     "text": [
      "INFO:gym.envs.registration:Making new env: Skiing-v0\n",
      "[2017-01-19 15:27:03,303] Making new env: Skiing-v0\n"
     ]
    },
    {
     "ename": "KeyboardInterrupt",
     "evalue": "",
     "output_type": "error",
     "traceback": [
      "\u001b[0;31m---------------------------------------------------------------------------\u001b[0m",
      "\u001b[0;31mKeyboardInterrupt\u001b[0m                         Traceback (most recent call last)",
      "\u001b[0;32m<ipython-input-121-77df48216f10>\u001b[0m in \u001b[0;36m<module>\u001b[0;34m()\u001b[0m\n\u001b[1;32m     22\u001b[0m \u001b[0;34m\u001b[0m\u001b[0m\n\u001b[1;32m     23\u001b[0m         \u001b[0ma\u001b[0m \u001b[0;34m=\u001b[0m \u001b[0menv\u001b[0m\u001b[0;34m.\u001b[0m\u001b[0maction_space\u001b[0m\u001b[0;34m.\u001b[0m\u001b[0msample\u001b[0m\u001b[0;34m(\u001b[0m\u001b[0;34m)\u001b[0m\u001b[0;34m\u001b[0m\u001b[0m\n\u001b[0;32m---> 24\u001b[0;31m         \u001b[0ms\u001b[0m\u001b[0;34m,\u001b[0m \u001b[0mr\u001b[0m\u001b[0;34m,\u001b[0m \u001b[0mdone\u001b[0m\u001b[0;34m,\u001b[0m \u001b[0m_\u001b[0m \u001b[0;34m=\u001b[0m \u001b[0menv\u001b[0m\u001b[0;34m.\u001b[0m\u001b[0mstep\u001b[0m\u001b[0;34m(\u001b[0m\u001b[0ma\u001b[0m\u001b[0;34m)\u001b[0m\u001b[0;34m\u001b[0m\u001b[0m\n\u001b[0m\u001b[1;32m     25\u001b[0m         \u001b[0;32mif\u001b[0m \u001b[0mcount\u001b[0m \u001b[0;34m%\u001b[0m \u001b[0;36m10\u001b[0m \u001b[0;34m==\u001b[0m \u001b[0;36m0\u001b[0m\u001b[0;34m:\u001b[0m\u001b[0;34m\u001b[0m\u001b[0m\n\u001b[1;32m     26\u001b[0m             \u001b[0mobservations\u001b[0m\u001b[0;34m.\u001b[0m\u001b[0mappend\u001b[0m\u001b[0;34m(\u001b[0m\u001b[0ms\u001b[0m\u001b[0;34m)\u001b[0m\u001b[0;34m\u001b[0m\u001b[0m\n",
      "\u001b[0;32m/Library/Frameworks/Python.framework/Versions/3.4/lib/python3.4/site-packages/gym/core.py\u001b[0m in \u001b[0;36mstep\u001b[0;34m(self, action)\u001b[0m\n\u001b[1;32m    108\u001b[0m             \u001b[0minfo\u001b[0m \u001b[0;34m(\u001b[0m\u001b[0mdict\u001b[0m\u001b[0;34m)\u001b[0m\u001b[0;34m:\u001b[0m \u001b[0mcontains\u001b[0m \u001b[0mauxiliary\u001b[0m \u001b[0mdiagnostic\u001b[0m \u001b[0minformation\u001b[0m \u001b[0;34m(\u001b[0m\u001b[0mhelpful\u001b[0m \u001b[0;32mfor\u001b[0m \u001b[0mdebugging\u001b[0m\u001b[0;34m,\u001b[0m \u001b[0;32mand\u001b[0m \u001b[0msometimes\u001b[0m \u001b[0mlearning\u001b[0m\u001b[0;34m)\u001b[0m\u001b[0;34m\u001b[0m\u001b[0m\n\u001b[1;32m    109\u001b[0m         \"\"\"\n\u001b[0;32m--> 110\u001b[0;31m         \u001b[0mobservation\u001b[0m\u001b[0;34m,\u001b[0m \u001b[0mreward\u001b[0m\u001b[0;34m,\u001b[0m \u001b[0mdone\u001b[0m\u001b[0;34m,\u001b[0m \u001b[0minfo\u001b[0m \u001b[0;34m=\u001b[0m \u001b[0mself\u001b[0m\u001b[0;34m.\u001b[0m\u001b[0m_step\u001b[0m\u001b[0;34m(\u001b[0m\u001b[0maction\u001b[0m\u001b[0;34m)\u001b[0m\u001b[0;34m\u001b[0m\u001b[0m\n\u001b[0m\u001b[1;32m    111\u001b[0m         \u001b[0;32mreturn\u001b[0m \u001b[0mobservation\u001b[0m\u001b[0;34m,\u001b[0m \u001b[0mreward\u001b[0m\u001b[0;34m,\u001b[0m \u001b[0mdone\u001b[0m\u001b[0;34m,\u001b[0m \u001b[0minfo\u001b[0m\u001b[0;34m\u001b[0m\u001b[0m\n\u001b[1;32m    112\u001b[0m \u001b[0;34m\u001b[0m\u001b[0m\n",
      "\u001b[0;32m/Library/Frameworks/Python.framework/Versions/3.4/lib/python3.4/site-packages/gym/envs/atari/atari_env.py\u001b[0m in \u001b[0;36m_step\u001b[0;34m(self, a)\u001b[0m\n\u001b[1;32m     79\u001b[0m             \u001b[0mnum_steps\u001b[0m \u001b[0;34m=\u001b[0m \u001b[0mself\u001b[0m\u001b[0;34m.\u001b[0m\u001b[0mnp_random\u001b[0m\u001b[0;34m.\u001b[0m\u001b[0mrandint\u001b[0m\u001b[0;34m(\u001b[0m\u001b[0mself\u001b[0m\u001b[0;34m.\u001b[0m\u001b[0mframeskip\u001b[0m\u001b[0;34m[\u001b[0m\u001b[0;36m0\u001b[0m\u001b[0;34m]\u001b[0m\u001b[0;34m,\u001b[0m \u001b[0mself\u001b[0m\u001b[0;34m.\u001b[0m\u001b[0mframeskip\u001b[0m\u001b[0;34m[\u001b[0m\u001b[0;36m1\u001b[0m\u001b[0;34m]\u001b[0m\u001b[0;34m)\u001b[0m\u001b[0;34m\u001b[0m\u001b[0m\n\u001b[1;32m     80\u001b[0m         \u001b[0;32mfor\u001b[0m \u001b[0m_\u001b[0m \u001b[0;32min\u001b[0m \u001b[0mrange\u001b[0m\u001b[0;34m(\u001b[0m\u001b[0mnum_steps\u001b[0m\u001b[0;34m)\u001b[0m\u001b[0;34m:\u001b[0m\u001b[0;34m\u001b[0m\u001b[0m\n\u001b[0;32m---> 81\u001b[0;31m             \u001b[0mreward\u001b[0m \u001b[0;34m+=\u001b[0m \u001b[0mself\u001b[0m\u001b[0;34m.\u001b[0m\u001b[0male\u001b[0m\u001b[0;34m.\u001b[0m\u001b[0mact\u001b[0m\u001b[0;34m(\u001b[0m\u001b[0maction\u001b[0m\u001b[0;34m)\u001b[0m\u001b[0;34m\u001b[0m\u001b[0m\n\u001b[0m\u001b[1;32m     82\u001b[0m         \u001b[0mob\u001b[0m \u001b[0;34m=\u001b[0m \u001b[0mself\u001b[0m\u001b[0;34m.\u001b[0m\u001b[0m_get_obs\u001b[0m\u001b[0;34m(\u001b[0m\u001b[0;34m)\u001b[0m\u001b[0;34m\u001b[0m\u001b[0m\n\u001b[1;32m     83\u001b[0m \u001b[0;34m\u001b[0m\u001b[0m\n",
      "\u001b[0;32m/Library/Frameworks/Python.framework/Versions/3.4/lib/python3.4/site-packages/atari_py/ale_python_interface.py\u001b[0m in \u001b[0;36mact\u001b[0;34m(self, action)\u001b[0m\n\u001b[1;32m    139\u001b[0m \u001b[0;34m\u001b[0m\u001b[0m\n\u001b[1;32m    140\u001b[0m     \u001b[0;32mdef\u001b[0m \u001b[0mact\u001b[0m\u001b[0;34m(\u001b[0m\u001b[0mself\u001b[0m\u001b[0;34m,\u001b[0m \u001b[0maction\u001b[0m\u001b[0;34m)\u001b[0m\u001b[0;34m:\u001b[0m\u001b[0;34m\u001b[0m\u001b[0m\n\u001b[0;32m--> 141\u001b[0;31m         \u001b[0;32mreturn\u001b[0m \u001b[0male_lib\u001b[0m\u001b[0;34m.\u001b[0m\u001b[0mact\u001b[0m\u001b[0;34m(\u001b[0m\u001b[0mself\u001b[0m\u001b[0;34m.\u001b[0m\u001b[0mobj\u001b[0m\u001b[0;34m,\u001b[0m \u001b[0mint\u001b[0m\u001b[0;34m(\u001b[0m\u001b[0maction\u001b[0m\u001b[0;34m)\u001b[0m\u001b[0;34m)\u001b[0m\u001b[0;34m\u001b[0m\u001b[0m\n\u001b[0m\u001b[1;32m    142\u001b[0m \u001b[0;34m\u001b[0m\u001b[0m\n\u001b[1;32m    143\u001b[0m     \u001b[0;32mdef\u001b[0m \u001b[0mgame_over\u001b[0m\u001b[0;34m(\u001b[0m\u001b[0mself\u001b[0m\u001b[0;34m)\u001b[0m\u001b[0;34m:\u001b[0m\u001b[0;34m\u001b[0m\u001b[0m\n",
      "\u001b[0;31mKeyboardInterrupt\u001b[0m: "
     ]
    }
   ],
   "source": [
    "max_observations = 20000\n",
    "observations = []\n",
    "render = False\n",
    "count = 0\n",
    "\n",
    "env_name = 'Skiing-v0'\n",
    "env = gym.make(env_name)\n",
    "\n",
    "while True:\n",
    "    if len(observations) >= max_observations: break\n",
    "    s = env.reset()\n",
    "    if count % 10 == 0:\n",
    "        observations.append(s)\n",
    "    count += 1\n",
    "    done = False\n",
    "    if len(observations) % 1000 == 0:\n",
    "        print(len(observations))\n",
    "    \n",
    "    while not done:\n",
    "        if render: env.render()\n",
    "        if len(observations) >= max_observations: break\n",
    "        \n",
    "        a = env.action_space.sample()\n",
    "        s, r, done, _ = env.step(a)\n",
    "        if count % 10 == 0:\n",
    "            observations.append(s)\n",
    "        count += 1\n",
    "        \n",
    "env.close()"
   ]
  },
  {
   "cell_type": "code",
   "execution_count": 5,
   "metadata": {
    "collapsed": false
   },
   "outputs": [],
   "source": [
    "observations = np.array(observations)"
   ]
  },
  {
   "cell_type": "markdown",
   "metadata": {},
   "source": [
    "Here I save samples as collecting takes a lot of time"
   ]
  },
  {
   "cell_type": "code",
   "execution_count": 122,
   "metadata": {
    "collapsed": true
   },
   "outputs": [],
   "source": [
    "#np.save('observations20k', observations)\n",
    "observations = np.load('observations20k.npy')"
   ]
  },
  {
   "cell_type": "code",
   "execution_count": 123,
   "metadata": {
    "collapsed": true
   },
   "outputs": [],
   "source": [
    "from skimage.transform import resize"
   ]
  },
  {
   "cell_type": "markdown",
   "metadata": {},
   "source": [
    "### Preprocessing\n",
    "I resize all images to 60x60. Otherwise the network has too many parameters."
   ]
  },
  {
   "cell_type": "code",
   "execution_count": 58,
   "metadata": {
    "collapsed": false
   },
   "outputs": [
    {
     "name": "stdout",
     "output_type": "stream",
     "text": [
      "0\n",
      "1000\n",
      "2000\n",
      "3000\n",
      "4000\n",
      "5000\n",
      "6000\n",
      "7000\n",
      "8000\n",
      "9000\n",
      "10000\n",
      "11000\n",
      "12000\n",
      "13000\n",
      "14000\n",
      "15000\n",
      "16000\n",
      "17000\n",
      "18000\n",
      "19000\n"
     ]
    }
   ],
   "source": [
    "resized = []\n",
    "for i, img in enumerate(observations):\n",
    "    resized.append(resize(img,(60, 60, 3)).astype(float))\n",
    "    if not (i%1000):\n",
    "        print(i)"
   ]
  },
  {
   "cell_type": "code",
   "execution_count": 59,
   "metadata": {
    "collapsed": false
   },
   "outputs": [],
   "source": [
    "resized = np.array(resized).transpose(0, 3, 1, 2)"
   ]
  },
  {
   "cell_type": "markdown",
   "metadata": {},
   "source": [
    "Here is an example of a resized picture"
   ]
  },
  {
   "cell_type": "code",
   "execution_count": 57,
   "metadata": {
    "collapsed": false
   },
   "outputs": [
    {
     "data": {
      "text/plain": [
       "<matplotlib.image.AxesImage at 0x145b74a58>"
      ]
     },
     "execution_count": 57,
     "metadata": {},
     "output_type": "execute_result"
    },
    {
     "data": {
      "image/png": "[encoded data removed]",
      "text/plain": [
       "<matplotlib.figure.Figure at 0x1427795c0>"
      ]
     },
     "metadata": {},
     "output_type": "display_data"
    }
   ],
   "source": [
    "plt.imshow(resize(observations[850], (60, 60, 3)), interpolation=('Nearest'))"
   ]
  },
  {
   "cell_type": "markdown",
   "metadata": {},
   "source": [
    "### Architecture\n",
    "\n",
    "I tried to make architecture similar to DQN. It's two conv layers (16, 8, 8) and (32, 4, 4) followed by a \n",
    "dense layer with 64 neurons. "
   ]
  },
  {
   "cell_type": "code",
   "execution_count": 62,
   "metadata": {
    "collapsed": false
   },
   "outputs": [
    {
     "name": "stdout",
     "output_type": "stream",
     "text": [
      "(?, 3, 60, 60)\n",
      "(?, 16, 60, 60)\n",
      "(?, 32, 15, 15)\n",
      "______\n",
      "[32, 15, 15]\n",
      "(?, 32, 15, 15)\n"
     ]
    }
   ],
   "source": [
    "from keras.layers import Input, Dense, Convolution2D, MaxPooling2D, UpSampling2D, Reshape, Flatten\n",
    "from keras.models import Model\n",
    "border_mode = 'same'\n",
    "\n",
    "input_img = Input(shape=resized.shape[1:])\n",
    "\n",
    "x = Convolution2D(16, 8, 8, activation='relu', border_mode=border_mode)(input_img)\n",
    "x = MaxPooling2D((2, 2), border_mode=border_mode)(x)\n",
    "x = Convolution2D(32, 4, 4, activation='relu', border_mode=border_mode)(x)\n",
    "x = MaxPooling2D((2, 2), border_mode=border_mode)(x)\n",
    "filters_shape = x.get_shape()\n",
    "flattened = Flatten()(x)\n",
    "flat_shape = flattened.get_shape()\n",
    "encoded = Dense(64, activation='relu')(flattened)\n",
    "\n",
    "x = Dense(int(flat_shape[1]), activation='relu')(encoded)\n",
    "x = Reshape(tuple([int(shp) for shp in filters_shape[1:]]))(x)\n",
    "x = Convolution2D(32, 4, 4, activation='relu', border_mode=border_mode)(x)\n",
    "x = UpSampling2D((2, 2))(x)\n",
    "x = Convolution2D(16, 8, 8, activation='relu', border_mode=border_mode)(x)\n",
    "x = UpSampling2D((2, 2))(x)\n",
    "x = Convolution2D(3, 3, 3, activation='relu', border_mode=border_mode)(x)\n",
    "\n",
    "decoded = x\n",
    "\n",
    "encoder = Model(input_img, encoded)\n",
    "autoencoder = Model(input_img, decoded)\n",
    "autoencoder.compile(optimizer='adadelta', loss='mse')"
   ]
  },
  {
   "cell_type": "code",
   "execution_count": 63,
   "metadata": {
    "collapsed": false
   },
   "outputs": [
    {
     "name": "stdout",
     "output_type": "stream",
     "text": [
      "____________________________________________________________________________________________________\n",
      "Layer (type)                     Output Shape          Param #     Connected to                     \n",
      "====================================================================================================\n",
      "input_3 (InputLayer)             (None, 3, 60, 60)     0                                            \n",
      "____________________________________________________________________________________________________\n",
      "convolution2d_11 (Convolution2D) (None, 16, 60, 60)    3088        input_3[0][0]                    \n",
      "____________________________________________________________________________________________________\n",
      "maxpooling2d_5 (MaxPooling2D)    (None, 16, 30, 30)    0           convolution2d_11[0][0]           \n",
      "____________________________________________________________________________________________________\n",
      "convolution2d_12 (Convolution2D) (None, 32, 30, 30)    8224        maxpooling2d_5[0][0]             \n",
      "____________________________________________________________________________________________________\n",
      "maxpooling2d_6 (MaxPooling2D)    (None, 32, 15, 15)    0           convolution2d_12[0][0]           \n",
      "____________________________________________________________________________________________________\n",
      "flatten_3 (Flatten)              (None, 7200)          0           maxpooling2d_6[0][0]             \n",
      "____________________________________________________________________________________________________\n",
      "dense_5 (Dense)                  (None, 64)            460864      flatten_3[0][0]                  \n",
      "____________________________________________________________________________________________________\n",
      "dense_6 (Dense)                  (None, 7200)          468000      dense_5[0][0]                    \n",
      "____________________________________________________________________________________________________\n",
      "reshape_3 (Reshape)              (None, 32, 15, 15)    0           dense_6[0][0]                    \n",
      "____________________________________________________________________________________________________\n",
      "convolution2d_13 (Convolution2D) (None, 32, 15, 15)    16416       reshape_3[0][0]                  \n",
      "____________________________________________________________________________________________________\n",
      "upsampling2d_5 (UpSampling2D)    (None, 32, 30, 30)    0           convolution2d_13[0][0]           \n",
      "____________________________________________________________________________________________________\n",
      "convolution2d_14 (Convolution2D) (None, 16, 30, 30)    32784       upsampling2d_5[0][0]             \n",
      "____________________________________________________________________________________________________\n",
      "upsampling2d_6 (UpSampling2D)    (None, 16, 60, 60)    0           convolution2d_14[0][0]           \n",
      "____________________________________________________________________________________________________\n",
      "convolution2d_15 (Convolution2D) (None, 3, 60, 60)     435         upsampling2d_6[0][0]             \n",
      "====================================================================================================\n",
      "Total params: 989811\n",
      "____________________________________________________________________________________________________\n"
     ]
    }
   ],
   "source": [
    "autoencoder.summary()"
   ]
  },
  {
   "cell_type": "markdown",
   "metadata": {},
   "source": [
    "### Training\n",
    "\n",
    "Let's train the model."
   ]
  },
  {
   "cell_type": "code",
   "execution_count": 17,
   "metadata": {
    "collapsed": true
   },
   "outputs": [],
   "source": [
    "import keras\n",
    "class LossHistory(keras.callbacks.Callback):\n",
    "    def on_train_begin(self, logs={}):\n",
    "        self.losses = []\n",
    "        self.val_losses = []\n",
    "\n",
    "    def on_batch_end(self, batch, logs={}):\n",
    "        self.losses.append(float(logs.get('loss')))\n",
    "    \n",
    "    def on_epoch_end(self, epoch, logs={}):\n",
    "        self.val_losses.append(logs.get('val_loss'))\n"
   ]
  },
  {
   "cell_type": "code",
   "execution_count": 65,
   "metadata": {
    "collapsed": false
   },
   "outputs": [
    {
     "name": "stdout",
     "output_type": "stream",
     "text": [
      "Epoch 1/60\n",
      "20000/20000 [==============================] - 419s - loss: 0.4570   \n",
      "Epoch 2/60\n",
      "20000/20000 [==============================] - 447s - loss: 0.4464   \n",
      "Epoch 3/60\n",
      "20000/20000 [==============================] - 448s - loss: 0.4455   \n",
      "Epoch 4/60\n",
      "20000/20000 [==============================] - 446s - loss: 0.4454   \n",
      "Epoch 5/60\n",
      "20000/20000 [==============================] - 440s - loss: 0.4453   \n",
      "Epoch 6/60\n",
      "20000/20000 [==============================] - 439s - loss: 0.4414   \n",
      "Epoch 7/60\n",
      "20000/20000 [==============================] - 440s - loss: 0.2254   \n",
      "Epoch 8/60\n",
      "20000/20000 [==============================] - 448s - loss: 0.2246   \n",
      "Epoch 9/60\n",
      "20000/20000 [==============================] - 448s - loss: 0.2245   \n",
      "Epoch 10/60\n",
      "20000/20000 [==============================] - 442s - loss: 0.2243   \n",
      "Epoch 11/60\n",
      "20000/20000 [==============================] - 446s - loss: 0.2242   \n",
      "Epoch 12/60\n",
      "20000/20000 [==============================] - 437s - loss: 0.2241   \n",
      "Epoch 13/60\n",
      "20000/20000 [==============================] - 443s - loss: 0.2240   \n",
      "Epoch 14/60\n",
      "20000/20000 [==============================] - 443s - loss: 0.2240   \n",
      "Epoch 15/60\n",
      "20000/20000 [==============================] - 448s - loss: 0.2239   \n",
      "Epoch 16/60\n",
      "20000/20000 [==============================] - 450s - loss: 0.2238   \n",
      "Epoch 17/60\n",
      "20000/20000 [==============================] - 451s - loss: 0.2238   \n",
      "Epoch 18/60\n",
      "20000/20000 [==============================] - 440s - loss: 0.2237   \n",
      "Epoch 19/60\n",
      "20000/20000 [==============================] - 436s - loss: 0.2236   \n",
      "Epoch 20/60\n",
      "20000/20000 [==============================] - 433s - loss: 0.2235   \n",
      "Epoch 21/60\n",
      "20000/20000 [==============================] - 439s - loss: 0.2234   \n",
      "Epoch 22/60\n",
      "20000/20000 [==============================] - 436s - loss: 0.2233   \n",
      "Epoch 23/60\n",
      "20000/20000 [==============================] - 436s - loss: 0.2232   \n",
      "Epoch 24/60\n",
      "20000/20000 [==============================] - 439s - loss: 0.2231   \n",
      "Epoch 25/60\n",
      "20000/20000 [==============================] - 440s - loss: 0.2230   \n",
      "Epoch 26/60\n",
      "20000/20000 [==============================] - 441s - loss: 0.2229   \n",
      "Epoch 27/60\n",
      "20000/20000 [==============================] - 438s - loss: 0.2229   \n",
      "Epoch 28/60\n",
      "20000/20000 [==============================] - 439s - loss: 0.2228   \n",
      "Epoch 29/60\n",
      "20000/20000 [==============================] - 436s - loss: 0.2228   \n",
      "Epoch 30/60\n",
      "20000/20000 [==============================] - 439s - loss: 0.2227   \n",
      "Epoch 31/60\n",
      "20000/20000 [==============================] - 436s - loss: 0.0762   \n",
      "Epoch 32/60\n",
      "20000/20000 [==============================] - 436s - loss: 0.0033   \n",
      "Epoch 33/60\n",
      "20000/20000 [==============================] - 436s - loss: 0.0030   \n",
      "Epoch 34/60\n",
      "20000/20000 [==============================] - 436s - loss: 0.0028   \n",
      "Epoch 35/60\n",
      "20000/20000 [==============================] - 436s - loss: 0.0026   \n",
      "Epoch 36/60\n",
      "20000/20000 [==============================] - 442s - loss: 0.0025   \n",
      "Epoch 37/60\n",
      "20000/20000 [==============================] - 436s - loss: 0.0025   \n",
      "Epoch 38/60\n",
      "20000/20000 [==============================] - 436s - loss: 0.0024   \n",
      "Epoch 39/60\n",
      "20000/20000 [==============================] - 433s - loss: 0.0024   \n",
      "Epoch 40/60\n",
      "20000/20000 [==============================] - 437s - loss: 0.0023   \n",
      "Epoch 41/60\n",
      "20000/20000 [==============================] - 436s - loss: 0.0023   \n",
      "Epoch 42/60\n",
      "20000/20000 [==============================] - 434s - loss: 0.0022   \n",
      "Epoch 43/60\n",
      "20000/20000 [==============================] - 436s - loss: 0.0022   \n",
      "Epoch 44/60\n",
      "20000/20000 [==============================] - 439s - loss: 0.0022   \n",
      "Epoch 45/60\n",
      "20000/20000 [==============================] - 436s - loss: 0.0022   \n",
      "Epoch 46/60\n",
      "20000/20000 [==============================] - 439s - loss: 0.0021   \n",
      "Epoch 47/60\n",
      "20000/20000 [==============================] - 440s - loss: 0.0021   \n",
      "Epoch 48/60\n",
      "20000/20000 [==============================] - 436s - loss: 0.0021   \n",
      "Epoch 49/60\n",
      "20000/20000 [==============================] - 439s - loss: 0.0021   \n",
      "Epoch 50/60\n",
      "20000/20000 [==============================] - 436s - loss: 0.0021   \n",
      "Epoch 51/60\n",
      "20000/20000 [==============================] - 441s - loss: 0.0021   \n",
      "Epoch 52/60\n",
      "20000/20000 [==============================] - 438s - loss: 0.0020   \n",
      "Epoch 53/60\n",
      "20000/20000 [==============================] - 436s - loss: 0.0020   \n",
      "Epoch 54/60\n",
      "20000/20000 [==============================] - 434s - loss: 0.0020   \n",
      "Epoch 55/60\n",
      "20000/20000 [==============================] - 436s - loss: 0.0020   \n",
      "Epoch 56/60\n",
      "20000/20000 [==============================] - 436s - loss: 0.0020   \n",
      "Epoch 57/60\n",
      "20000/20000 [==============================] - 437s - loss: 0.0020   \n",
      "Epoch 58/60\n",
      "20000/20000 [==============================] - 440s - loss: 0.0020   \n",
      "Epoch 59/60\n",
      "20000/20000 [==============================] - 439s - loss: 0.0019   \n",
      "Epoch 60/60\n",
      "20000/20000 [==============================] - 435s - loss: 0.0019   \n"
     ]
    },
    {
     "data": {
      "text/plain": [
       "<keras.callbacks.History at 0x145c93a90>"
      ]
     },
     "execution_count": 65,
     "metadata": {},
     "output_type": "execute_result"
    }
   ],
   "source": [
    "history = LossHistory()\n",
    "autoencoder.fit(resized, resized,\n",
    "                nb_epoch=60,\n",
    "                batch_size=32,\n",
    "                shuffle=True,\n",
    "                callbacks=[history])"
   ]
  },
  {
   "cell_type": "markdown",
   "metadata": {},
   "source": [
    "### Let's check out the results"
   ]
  },
  {
   "cell_type": "code",
   "execution_count": 74,
   "metadata": {
    "collapsed": false
   },
   "outputs": [
    {
     "data": {
      "text/plain": [
       "<matplotlib.image.AxesImage at 0x14ab76e48>"
      ]
     },
     "execution_count": 74,
     "metadata": {},
     "output_type": "execute_result"
    },
    {
     "data": {
      "image/png": "[encoded data removed]",
      "text/plain": [
       "<matplotlib.figure.Figure at 0x146d54fd0>"
      ]
     },
     "metadata": {},
     "output_type": "display_data"
    }
   ],
   "source": [
    "plt.imshow(autoencoder.predict(np.array([resized[20]]))[0].transpose(1,2,0), interpolation='Nearest')"
   ]
  },
  {
   "cell_type": "code",
   "execution_count": 75,
   "metadata": {
    "collapsed": false
   },
   "outputs": [
    {
     "data": {
      "text/plain": [
       "<matplotlib.image.AxesImage at 0x1495a4cc0>"
      ]
     },
     "execution_count": 75,
     "metadata": {},
     "output_type": "execute_result"
    },
    {
     "data": {
      "image/png": "[encoded data removed]",
      "text/plain": [
       "<matplotlib.figure.Figure at 0x14ab4f748>"
      ]
     },
     "metadata": {},
     "output_type": "display_data"
    }
   ],
   "source": [
    "plt.imshow(resized[20].transpose(1,2,0), interpolation='Nearest')"
   ]
  },
  {
   "cell_type": "code",
   "execution_count": 78,
   "metadata": {
    "collapsed": false
   },
   "outputs": [
    {
     "data": {
      "image/png": "[encoded data removed]",
      "text/plain": [
       "<matplotlib.figure.Figure at 0x1495b9668>"
      ]
     },
     "metadata": {},
     "output_type": "display_data"
    }
   ],
   "source": [
    "plt.plot(history.losses)\n",
    "plt.show()"
   ]
  },
  {
   "cell_type": "markdown",
   "metadata": {},
   "source": [
    "### Let's test the model on some new data, it didn't see"
   ]
  },
  {
   "cell_type": "code",
   "execution_count": 107,
   "metadata": {
    "collapsed": false
   },
   "outputs": [
    {
     "name": "stderr",
     "output_type": "stream",
     "text": [
      "INFO:gym.envs.registration:Making new env: Skiing-v0\n",
      "[2017-01-19 15:17:41,634] Making new env: Skiing-v0\n"
     ]
    }
   ],
   "source": [
    "max_observations = 1000\n",
    "new_observations = []\n",
    "render = False\n",
    "count = 0\n",
    "\n",
    "env_name = 'Skiing-v0'\n",
    "env = gym.make(env_name)\n",
    "\n",
    "while True:\n",
    "    if len(new_observations) >= max_observations: break\n",
    "    s = env.reset()\n",
    "    if count % 10 == 0:\n",
    "        new_observations.append(s)\n",
    "    count += 1\n",
    "    done = False\n",
    "    if len(new_observations) % 1000 == 0:\n",
    "        print(len(new_observations))\n",
    "    \n",
    "    while not done:\n",
    "        if render: env.render()\n",
    "        if len(new_observations) >= max_observations: break\n",
    "        \n",
    "        a = env.action_space.sample()\n",
    "        s, r, done, _ = env.step(a)\n",
    "        if count % 10 == 0:\n",
    "            new_observations.append(s)\n",
    "        count += 1\n",
    "        \n",
    "env.close()"
   ]
  },
  {
   "cell_type": "code",
   "execution_count": 109,
   "metadata": {
    "collapsed": true
   },
   "outputs": [],
   "source": [
    "new_resized = []\n",
    "for i, img in enumerate(new_observations):\n",
    "    new_resized.append(resize(img,(60, 60, 3)).astype(float))"
   ]
  },
  {
   "cell_type": "code",
   "execution_count": 110,
   "metadata": {
    "collapsed": true
   },
   "outputs": [],
   "source": [
    "new_resized = np.array(new_resized).transpose(0, 3, 1, 2)"
   ]
  },
  {
   "cell_type": "code",
   "execution_count": 111,
   "metadata": {
    "collapsed": false
   },
   "outputs": [
    {
     "data": {
      "text/plain": [
       "(1000, 3, 60, 60)"
      ]
     },
     "execution_count": 111,
     "metadata": {},
     "output_type": "execute_result"
    }
   ],
   "source": [
    "new_resized.shape"
   ]
  },
  {
   "cell_type": "code",
   "execution_count": 112,
   "metadata": {
    "collapsed": true
   },
   "outputs": [],
   "source": [
    "new_predicted = autoencoder.predict(new_resized)"
   ]
  },
  {
   "cell_type": "code",
   "execution_count": 116,
   "metadata": {
    "collapsed": false
   },
   "outputs": [
    {
     "data": {
      "text/plain": [
       "0.0019267879966323963"
      ]
     },
     "execution_count": 116,
     "metadata": {},
     "output_type": "execute_result"
    }
   ],
   "source": [
    "np.linalg.norm(new_predicted - new_resized)**2 / new_resized.size"
   ]
  },
  {
   "cell_type": "code",
   "execution_count": 117,
   "metadata": {
    "collapsed": false
   },
   "outputs": [
    {
     "data": {
      "text/plain": [
       "<matplotlib.image.AxesImage at 0x14f931080>"
      ]
     },
     "execution_count": 117,
     "metadata": {},
     "output_type": "execute_result"
    },
    {
     "data": {
      "image/png": "[encoded data removed]",
      "text/plain": [
       "<matplotlib.figure.Figure at 0x14f4da588>"
      ]
     },
     "metadata": {},
     "output_type": "display_data"
    }
   ],
   "source": [
    "plt.imshow(autoencoder.predict(np.array([new_predicted[11]]))[0].transpose(1,2,0), interpolation='Nearest')"
   ]
  },
  {
   "cell_type": "code",
   "execution_count": 118,
   "metadata": {
    "collapsed": false
   },
   "outputs": [
    {
     "data": {
      "text/plain": [
       "<matplotlib.image.AxesImage at 0x14fa1b7b8>"
      ]
     },
     "execution_count": 118,
     "metadata": {},
     "output_type": "execute_result"
    },
    {
     "data": {
      "image/png": "[encoded data removed]",
      "text/plain": [
       "<matplotlib.figure.Figure at 0x14f8e9518>"
      ]
     },
     "metadata": {},
     "output_type": "display_data"
    }
   ],
   "source": [
    "plt.imshow(new_resized[11].transpose(1,2,0), interpolation='Nearest')"
   ]
  },
  {
   "cell_type": "markdown",
   "metadata": {},
   "source": [
    "### Saving the model"
   ]
  },
  {
   "cell_type": "code",
   "execution_count": 104,
   "metadata": {
    "collapsed": false
   },
   "outputs": [],
   "source": [
    "autoencoder.save_weights('Autoencoder_19_01.h5')\n",
    "autoencoder.to_json()\n",
    "import json\n",
    "with open('Autoencoder_19_01.txt', 'w') as outfile:\n",
    "    json.dump(autoencoder.to_json(), outfile)"
   ]
  },
  {
   "cell_type": "code",
   "execution_count": 105,
   "metadata": {
    "collapsed": true
   },
   "outputs": [],
   "source": [
    "encoder.save_weights('Encoder_19_01.h5')\n",
    "autoencoder.to_json()\n",
    "import json\n",
    "with open('Encoder_19_01.txt', 'w') as outfile:\n",
    "    json.dump(encoder.to_json(), outfile)"
   ]
  }
 ],
 "metadata": {
  "kernelspec": {
   "display_name": "Python 3",
   "language": "python",
   "name": "python3"
  },
  "language_info": {
   "codemirror_mode": {
    "name": "ipython",
    "version": 3
   },
   "file_extension": ".py",
   "mimetype": "text/x-python",
   "name": "python",
   "nbconvert_exporter": "python",
   "pygments_lexer": "ipython3",
   "version": "3.4.3"
  }
 },
 "nbformat": 4,
 "nbformat_minor": 0
}
