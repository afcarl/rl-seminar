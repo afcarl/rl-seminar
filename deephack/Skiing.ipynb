{
 "cells": [
  {
   "cell_type": "code",
   "execution_count": 4,
   "metadata": {
    "collapsed": false
   },
   "outputs": [
    {
     "ename": "ImportError",
     "evalue": "No module named gym",
     "output_type": "error",
     "traceback": [
      "\u001b[0;31m---------------------------------------------------------------------------\u001b[0m",
      "\u001b[0;31mImportError\u001b[0m                               Traceback (most recent call last)",
      "\u001b[0;32m<ipython-input-4-251eba304c27>\u001b[0m in \u001b[0;36m<module>\u001b[0;34m()\u001b[0m\n\u001b[1;32m      1\u001b[0m \u001b[0;32mfrom\u001b[0m \u001b[0m__future__\u001b[0m \u001b[0;32mimport\u001b[0m \u001b[0mprint_function\u001b[0m\u001b[0;34m,\u001b[0m \u001b[0mdivision\u001b[0m\u001b[0;34m\u001b[0m\u001b[0m\n\u001b[0;32m----> 2\u001b[0;31m \u001b[0;32mimport\u001b[0m \u001b[0mgym\u001b[0m\u001b[0;34m\u001b[0m\u001b[0m\n\u001b[0m\u001b[1;32m      3\u001b[0m \u001b[0;32mimport\u001b[0m \u001b[0mtime\u001b[0m\u001b[0;34m\u001b[0m\u001b[0m\n\u001b[1;32m      4\u001b[0m \u001b[0;32mimport\u001b[0m \u001b[0mnumpy\u001b[0m \u001b[0;32mas\u001b[0m \u001b[0mnp\u001b[0m\u001b[0;34m\u001b[0m\u001b[0m\n\u001b[1;32m      5\u001b[0m \u001b[0;32mimport\u001b[0m \u001b[0mmatplotlib\u001b[0m\u001b[0;34m.\u001b[0m\u001b[0mpyplot\u001b[0m \u001b[0;32mas\u001b[0m \u001b[0mplt\u001b[0m\u001b[0;34m\u001b[0m\u001b[0m\n",
      "\u001b[0;31mImportError\u001b[0m: No module named gym"
     ]
    }
   ],
   "source": [
    "from __future__ import print_function, division\n",
    "import gym\n",
    "import time\n",
    "import numpy as np\n",
    "import matplotlib.pyplot as plt\n",
    "seed = 417\n",
    "%matplotlib inline"
   ]
  },
  {
   "cell_type": "markdown",
   "metadata": {},
   "source": [
    "## Convolutional autoencoder for feature engineering"
   ]
  },
  {
   "cell_type": "code",
   "execution_count": 2,
   "metadata": {
    "collapsed": false
   },
   "outputs": [
    {
     "name": "stderr",
     "output_type": "stream",
     "text": [
      "Using Theano backend.\n",
      "Using gpu device 0: GeForce GT 650M (CNMeM is disabled, cuDNN not available)\n"
     ]
    }
   ],
   "source": [
    "from keras import backend as K\n",
    "K.set_image_dim_ordering('th')"
   ]
  },
  {
   "cell_type": "markdown",
   "metadata": {},
   "source": [
    "### Let's collect some samples"
   ]
  },
  {
   "cell_type": "code",
   "execution_count": 3,
   "metadata": {
    "collapsed": false,
    "scrolled": true
   },
   "outputs": [
    {
     "name": "stderr",
     "output_type": "stream",
     "text": [
      "INFO:gym.envs.registration:Making new env: Skiing-v0\n",
      "[2017-01-19 01:27:09,579] Making new env: Skiing-v0\n"
     ]
    }
   ],
   "source": [
    "max_observations = 2000\n",
    "observations = []\n",
    "render = False\n",
    "count = 0\n",
    "\n",
    "env_name = 'Skiing-v0'\n",
    "env = gym.make(env_name)\n",
    "\n",
    "while True:\n",
    "    if len(observations) >= max_observations: break\n",
    "    s = env.reset()\n",
    "    if count % 10 == 0:\n",
    "        observations.append(s)\n",
    "    count += 1\n",
    "    done = False\n",
    "    \n",
    "    while not done:\n",
    "        if render: env.render()\n",
    "        if len(observations) >= max_observations: break\n",
    "        \n",
    "        a = env.action_space.sample()\n",
    "        s, r, done, _ = env.step(a)\n",
    "        if count % 10 == 0:\n",
    "            observations.append(s)\n",
    "        count += 1\n",
    "        \n",
    "env.close()"
   ]
  },
  {
   "cell_type": "markdown",
   "metadata": {},
   "source": [
    "### Some preprocessing"
   ]
  },
  {
   "cell_type": "code",
   "execution_count": 4,
   "metadata": {
    "collapsed": true
   },
   "outputs": [],
   "source": [
    "x_train = np.array(observations)\n",
    "x_train = np.reshape(x_train, tuple([len(x_train)] + list(np.roll(x_train.shape[1:], 1))))\n",
    "x_train = np.concatenate((x_train, np.zeros((x_train.shape[0], 3, 6, x_train.shape[3]), dtype='uint8')), axis=2)\n",
    "x_train = x_train.astype('float16') / 255"
   ]
  },
  {
   "cell_type": "markdown",
   "metadata": {},
   "source": [
    "### Architecture"
   ]
  },
  {
   "cell_type": "code",
   "execution_count": 5,
   "metadata": {
    "collapsed": false
   },
   "outputs": [
    {
     "ename": "ImportError",
     "evalue": "No module named keras.layers",
     "output_type": "error",
     "traceback": [
      "\u001b[0;31m---------------------------------------------------------------------------\u001b[0m",
      "\u001b[0;31mImportError\u001b[0m                               Traceback (most recent call last)",
      "\u001b[0;32m<ipython-input-5-083d3b612179>\u001b[0m in \u001b[0;36m<module>\u001b[0;34m()\u001b[0m\n\u001b[0;32m----> 1\u001b[0;31m \u001b[0;32mfrom\u001b[0m \u001b[0mkeras\u001b[0m\u001b[0;34m.\u001b[0m\u001b[0mlayers\u001b[0m \u001b[0;32mimport\u001b[0m \u001b[0mInput\u001b[0m\u001b[0;34m,\u001b[0m \u001b[0mDense\u001b[0m\u001b[0;34m,\u001b[0m \u001b[0mConvolution2D\u001b[0m\u001b[0;34m,\u001b[0m \u001b[0mMaxPooling2D\u001b[0m\u001b[0;34m,\u001b[0m \u001b[0mUpSampling2D\u001b[0m\u001b[0;34m,\u001b[0m \u001b[0mReshape\u001b[0m\u001b[0;34m\u001b[0m\u001b[0m\n\u001b[0m\u001b[1;32m      2\u001b[0m \u001b[0;32mfrom\u001b[0m \u001b[0mkeras\u001b[0m\u001b[0;34m.\u001b[0m\u001b[0mmodels\u001b[0m \u001b[0;32mimport\u001b[0m \u001b[0mModel\u001b[0m\u001b[0;34m\u001b[0m\u001b[0m\n\u001b[1;32m      3\u001b[0m \u001b[0mborder_mode\u001b[0m \u001b[0;34m=\u001b[0m \u001b[0;34m'same'\u001b[0m\u001b[0;34m\u001b[0m\u001b[0m\n\u001b[1;32m      4\u001b[0m \u001b[0;34m\u001b[0m\u001b[0m\n\u001b[1;32m      5\u001b[0m \u001b[0minput_img\u001b[0m \u001b[0;34m=\u001b[0m \u001b[0mInput\u001b[0m\u001b[0;34m(\u001b[0m\u001b[0mshape\u001b[0m\u001b[0;34m=\u001b[0m\u001b[0mx_train\u001b[0m\u001b[0;34m.\u001b[0m\u001b[0mshape\u001b[0m\u001b[0;34m[\u001b[0m\u001b[0;36m1\u001b[0m\u001b[0;34m:\u001b[0m\u001b[0;34m]\u001b[0m\u001b[0;34m)\u001b[0m\u001b[0;34m\u001b[0m\u001b[0m\n",
      "\u001b[0;31mImportError\u001b[0m: No module named keras.layers"
     ]
    }
   ],
   "source": [
    "from keras.layers import Input, Dense, Convolution2D, MaxPooling2D, UpSampling2D, Reshape\n",
    "from keras.models import Model\n",
    "border_mode = 'same'\n",
    "\n",
    "input_img = Input(shape=x_train.shape[1:])\n",
    "\n",
    "x = Convolution2D(16, 8, activation='relu', border_mode=border_mode)(input_img)\n",
    "# x = MaxPooling2D((2, 2), border_mode=border_mode)(x)\n",
    "x = Convolution2D(32, 4, 4, activation='relu', border_mode=border_mode)(x)\n",
    "# x = MaxPooling2D((2, 2), border_mode=border_mode)(x)\n",
    "# x = Convolution2D(16, 3, 3, activation='relu', border_mode=border_mode)(x)\n",
    "# x = MaxPooling2D((2, 2), border_mode=border_mode)(x)\n",
    "# x = Convolution2D(8, 3, 3, activation='relu', border_mode=border_mode)(x)\n",
    "flattened = Reshape((x.shape[0], -1))(x)\n",
    "encoded = Dense(256, activation='relu')(flattened)\n",
    "\n",
    "# at this point the representation is (8, 4, 4) i.e. 128-dimensional\n",
    "\n",
    "unflattened = Reshape((x.shape[0], ))(encoded)\n",
    "x = Convolution2D(8, 3, 3, activation='relu', border_mode=border_mode)(encoded)\n",
    "x = UpSampling2D((2, 2))(x)\n",
    "x = Convolution2D(16, 3, 3, activation='relu', border_mode=border_mode)(x)\n",
    "x = UpSampling2D((2, 2))(x)\n",
    "x = Convolution2D(16, 3, 3, activation='relu', border_mode=border_mode)(x)\n",
    "x = UpSampling2D((2, 2))(x)\n",
    "x = Convolution2D(16, 3, 3, activation='relu', border_mode=border_mode)(x)\n",
    "x = UpSampling2D((2, 2))(x)\n",
    "decoded = Convolution2D(3, 3, 3, activation='relu', border_mode=border_mode)(x)\n",
    "\n",
    "encoder = Model(input_img, encoded)\n",
    "autoencoder = Model(input_img, decoded)\n",
    "autoencoder.compile(optimizer='adadelta', loss='mse')"
   ]
  },
  {
   "cell_type": "code",
   "execution_count": 6,
   "metadata": {
    "collapsed": false,
    "scrolled": false
   },
   "outputs": [
    {
     "name": "stdout",
     "output_type": "stream",
     "text": [
      "____________________________________________________________________________________________________\n",
      "Layer (type)                     Output Shape          Param #     Connected to                     \n",
      "====================================================================================================\n",
      "input_1 (InputLayer)             (None, 3, 256, 160)   0                                            \n",
      "____________________________________________________________________________________________________\n",
      "convolution2d_1 (Convolution2D)  (None, 16, 256, 160)  448         input_1[0][0]                    \n",
      "____________________________________________________________________________________________________\n",
      "maxpooling2d_1 (MaxPooling2D)    (None, 16, 128, 80)   0           convolution2d_1[0][0]            \n",
      "____________________________________________________________________________________________________\n",
      "convolution2d_2 (Convolution2D)  (None, 16, 128, 80)   2320        maxpooling2d_1[0][0]             \n",
      "____________________________________________________________________________________________________\n",
      "maxpooling2d_2 (MaxPooling2D)    (None, 16, 64, 40)    0           convolution2d_2[0][0]            \n",
      "____________________________________________________________________________________________________\n",
      "convolution2d_3 (Convolution2D)  (None, 16, 64, 40)    2320        maxpooling2d_2[0][0]             \n",
      "____________________________________________________________________________________________________\n",
      "maxpooling2d_3 (MaxPooling2D)    (None, 16, 32, 20)    0           convolution2d_3[0][0]            \n",
      "____________________________________________________________________________________________________\n",
      "convolution2d_4 (Convolution2D)  (None, 8, 32, 20)     1160        maxpooling2d_3[0][0]             \n",
      "____________________________________________________________________________________________________\n",
      "maxpooling2d_4 (MaxPooling2D)    (None, 8, 16, 10)     0           convolution2d_4[0][0]            \n",
      "____________________________________________________________________________________________________\n",
      "convolution2d_5 (Convolution2D)  (None, 8, 16, 10)     584         maxpooling2d_4[0][0]             \n",
      "____________________________________________________________________________________________________\n",
      "upsampling2d_1 (UpSampling2D)    (None, 8, 32, 20)     0           convolution2d_5[0][0]            \n",
      "____________________________________________________________________________________________________\n",
      "convolution2d_6 (Convolution2D)  (None, 16, 32, 20)    1168        upsampling2d_1[0][0]             \n",
      "____________________________________________________________________________________________________\n",
      "upsampling2d_2 (UpSampling2D)    (None, 16, 64, 40)    0           convolution2d_6[0][0]            \n",
      "____________________________________________________________________________________________________\n",
      "convolution2d_7 (Convolution2D)  (None, 16, 64, 40)    2320        upsampling2d_2[0][0]             \n",
      "____________________________________________________________________________________________________\n",
      "upsampling2d_3 (UpSampling2D)    (None, 16, 128, 80)   0           convolution2d_7[0][0]            \n",
      "____________________________________________________________________________________________________\n",
      "convolution2d_8 (Convolution2D)  (None, 16, 128, 80)   2320        upsampling2d_3[0][0]             \n",
      "____________________________________________________________________________________________________\n",
      "upsampling2d_4 (UpSampling2D)    (None, 16, 256, 160)  0           convolution2d_8[0][0]            \n",
      "____________________________________________________________________________________________________\n",
      "convolution2d_9 (Convolution2D)  (None, 3, 256, 160)   435         upsampling2d_4[0][0]             \n",
      "====================================================================================================\n",
      "Total params: 13075\n",
      "____________________________________________________________________________________________________\n"
     ]
    }
   ],
   "source": [
    "autoencoder.summary()"
   ]
  },
  {
   "cell_type": "markdown",
   "metadata": {},
   "source": [
    "### Training"
   ]
  },
  {
   "cell_type": "code",
   "execution_count": 7,
   "metadata": {
    "collapsed": false
   },
   "outputs": [],
   "source": [
    "import keras\n",
    "class LossHistory(keras.callbacks.Callback):\n",
    "    def on_train_begin(self, logs={}):\n",
    "        self.losses = []\n",
    "        self.val_losses = []\n",
    "\n",
    "    def on_batch_end(self, batch, logs={}):\n",
    "        self.losses.append(float(logs.get('loss')))\n",
    "    \n",
    "    def on_epoch_end(self, epoch, logs={}):\n",
    "        self.val_losses.append(logs.get('val_loss'))\n"
   ]
  },
  {
   "cell_type": "code",
   "execution_count": 8,
   "metadata": {
    "collapsed": false
   },
   "outputs": [
    {
     "name": "stdout",
     "output_type": "stream",
     "text": [
      "Epoch 1/4\n",
      "2000/2000 [==============================] - 147s - loss: 0.2762   \n",
      "Epoch 2/4\n",
      "2000/2000 [==============================] - 151s - loss: 0.1312   \n",
      "Epoch 3/4\n",
      "2000/2000 [==============================] - 152s - loss: 0.1042   \n",
      "Epoch 4/4\n",
      "2000/2000 [==============================] - 151s - loss: 0.0861   \n"
     ]
    },
    {
     "data": {
      "text/plain": [
       "<keras.callbacks.History at 0x7fad9d923410>"
      ]
     },
     "execution_count": 8,
     "metadata": {},
     "output_type": "execute_result"
    }
   ],
   "source": [
    "history = LossHistory()\n",
    "autoencoder.fit(x_train, x_train,\n",
    "                nb_epoch=4,\n",
    "                batch_size=32,\n",
    "                shuffle=True,\n",
    "                callbacks=[history])"
   ]
  },
  {
   "cell_type": "code",
   "execution_count": 9,
   "metadata": {
    "collapsed": false
   },
   "outputs": [
    {
     "data": {
      "image/png": "[encoded data removed]",
      "text/plain": [
       "<matplotlib.figure.Figure at 0x7fadafdb9850>"
      ]
     },
     "metadata": {},
     "output_type": "display_data"
    }
   ],
   "source": [
    "plt.plot(history.losses)\n",
    "plt.show()"
   ]
  },
  {
   "cell_type": "markdown",
   "metadata": {},
   "source": [
    "## Linear action-value function approximation for control"
   ]
  },
  {
   "cell_type": "markdown",
   "metadata": {},
   "source": [
    "### Since we can obtain features for different states, we will have different feature vectors for different actions"
   ]
  },
  {
   "cell_type": "code",
   "execution_count": 75,
   "metadata": {
    "collapsed": true
   },
   "outputs": [],
   "source": [
    "class ActionValueFunctionApproximator:\n",
    "    def __init__(self, nA, dim, alpha=0.01):\n",
    "        self.w = np.random.rand(nA, dim)\n",
    "        self.alpha = alpha\n",
    "        \n",
    "    def update(self, experience):\n",
    "        all_actions = np.array(map(lambda x: x[0], experience))\n",
    "        all_features = np.array(map(lambda x: x[1], experience))\n",
    "        G = np.cumsum(map(lambda x: x[2], experience)[::-1])[::-1]\n",
    "        Q = self.predict(all_features.T)\n",
    "        Q = Q[all_actions, range(len(experience))]\n",
    "        grads = (G - Q)[:, np.newaxis] * all_features\n",
    "        \n",
    "        for action in range(self.w.shape[0]):\n",
    "            self.w[action] += self.alpha * np.mean(grads[all_actions == action], axis=0)\n",
    "    \n",
    "    def predict(self, features):\n",
    "        return np.dot(self.w, features)"
   ]
  },
  {
   "cell_type": "code",
   "execution_count": 76,
   "metadata": {
    "collapsed": true
   },
   "outputs": [],
   "source": [
    "dim = np.prod(encoder.layers[-1].output_shape[1:])\n",
    "avf = ActionValueFunctionApproximator(env.action_space.n, dim, alpha=0.0001)"
   ]
  },
  {
   "cell_type": "code",
   "execution_count": 81,
   "metadata": {
    "collapsed": false
   },
   "outputs": [
    {
     "name": "stderr",
     "output_type": "stream",
     "text": [
      "INFO:gym.envs.registration:Making new env: Skiing-v0\n",
      "[2017-01-18 20:51:39,665] Making new env: Skiing-v0\n"
     ]
    },
    {
     "name": "stdout",
     "output_type": "stream",
     "text": [
      "episode 0 finished in 2012 steps\n"
     ]
    }
   ],
   "source": [
    "eps = 0.9\n",
    "render = True\n",
    "env_name = 'Skiing-v0'\n",
    "env = gym.make(env_name)\n",
    "#np.random.seed(seed)\n",
    "\n",
    "for episode in range(1):\n",
    "    s = env.reset()\n",
    "    t = 0\n",
    "    done = False\n",
    "    experience = []\n",
    "    \n",
    "    while not done:\n",
    "        if render: env.render()\n",
    "    \n",
    "        s_tmp = s.reshape(tuple([1] + list(np.roll(s.shape, 1))))\n",
    "        s_tmp = np.concatenate((s_tmp, np.zeros((s_tmp.shape[0], 3, 6, s_tmp.shape[3]), dtype='uint8')), axis=2)\n",
    "        features = encoder.predict(s_tmp.astype('float16')/255).ravel()\n",
    "        \n",
    "        if eps > np.random.rand():\n",
    "            a = env.action_space.sample()\n",
    "        else:\n",
    "            a = np.argmax(avf.predict(features))\n",
    "        sp, r, done, _ = env.step(a)\n",
    "        experience.append((a, features, r))\n",
    "        \n",
    "        \n",
    "        s = sp\n",
    "        t += 1\n",
    "        \n",
    "    avf.update(experience)\n",
    "    eps = eps * 0.9\n",
    "    \n",
    "    print('episode {} finished in {} steps'.format(episode, t))"
   ]
  },
  {
   "cell_type": "markdown",
   "metadata": {},
   "source": [
    "## Monte-Carlo Policy Gradient (REINFORCE)"
   ]
  },
  {
   "cell_type": "code",
   "execution_count": 23,
   "metadata": {
    "collapsed": true
   },
   "outputs": [],
   "source": [
    "discount = 1.0\n",
    "render = True"
   ]
  },
  {
   "cell_type": "code",
   "execution_count": 36,
   "metadata": {
    "collapsed": false
   },
   "outputs": [],
   "source": [
    "class Agent:\n",
    "    def __init__(self, env, learning_rate):\n",
    "        self.nA = env.action_space.n\n",
    "        n_components = 100\n",
    "        self.lr = learning_rate\n",
    "        self.feature_memory = []\n",
    "        res = encoder.predict(x_train)\n",
    "        n = res.shape[0]\n",
    "        observation_examples = np.hstack((res.reshape((n, -1)), \n",
    "                                          np.array([env.action_space.sample() for _ in range(n)])[:, np.newaxis]))\n",
    "\n",
    "        self.scaler = StandardScaler()\n",
    "        \n",
    "        self.feature_map = FeatureUnion([(\"rbf1\", RBFSampler(n_components=n_components, gamma=1., random_state=1)),\n",
    "                                         (\"rbf01\", RBFSampler(n_components=n_components, gamma=0.1, random_state=1)),\n",
    "                                         (\"rbf10\", RBFSampler(n_components=n_components, gamma=10, random_state=1))])\n",
    "\n",
    "        self.feature_map.fit(self.scaler.fit_transform(observation_examples))\n",
    "        \n",
    "        self.theta = np.random.rand(3 * n_components)\n",
    "    \n",
    "    def act(self, s):\n",
    "        s_tmp = s.reshape(tuple([1] + list(np.roll(s.shape, 1))))\n",
    "        s_tmp = np.concatenate((s_tmp, np.zeros((s_tmp.shape[0], 3, 6, s_tmp.shape[3]), dtype='uint8')), axis=2)\n",
    "        s_tmp = encoder.predict(s_tmp.astype('float16')/255).ravel()\n",
    "        Phi_s = self.feature_map.transform(self.scaler.transform(\n",
    "                np.hstack((np.arange(self.nA)[:, np.newaxis], np.repeat(s_tmp[np.newaxis, :], self.nA, axis=0)))))\n",
    "        \n",
    "        self.feature_memory.append(Phi_s)\n",
    "        self.probs = np.exp(np.dot(Phi_s, self.theta))\n",
    "        return np.random.choice(self.nA, p=self.probs/np.sum(self.probs))\n",
    "    \n",
    "    def update(self, memory):\n",
    "        gamma = 1 # 0.999\n",
    "        G = np.cumsum(map(lambda x: x[2], memory)[::-1])[::-1]\n",
    "        \n",
    "        for t in range(len(memory)):\n",
    "            self.theta += self.lr * (self.feature_memory[t][memory[t][1]] - \\\n",
    "                                     np.sum(self.probs[:, np.newaxis] * self.feature_memory[t], axis=0)) * G[t]\n",
    "        \n",
    "        self.feature_memory = []"
   ]
  },
  {
   "cell_type": "code",
   "execution_count": 37,
   "metadata": {
    "collapsed": true
   },
   "outputs": [],
   "source": [
    "\n",
    "from sklearn.preprocessing import StandardScaler\n",
    "from sklearn.kernel_approximation import RBFSampler\n",
    "from sklearn.pipeline import FeatureUnion"
   ]
  },
  {
   "cell_type": "code",
   "execution_count": 38,
   "metadata": {
    "collapsed": false
   },
   "outputs": [],
   "source": [
    "agent = Agent(env, 0.01)"
   ]
  },
  {
   "cell_type": "code",
   "execution_count": 39,
   "metadata": {
    "collapsed": false
   },
   "outputs": [
    {
     "name": "stdout",
     "output_type": "stream",
     "text": [
      "episode 0 finished in 1313 steps\n",
      "episode 1 finished in 1765 steps\n",
      "episode 2 finished in 705 steps\n",
      "episode 3 finished in 698 steps\n",
      "episode 4 finished in 703 steps\n",
      "episode 5 finished in 704 steps\n"
     ]
    },
    {
     "ename": "KeyboardInterrupt",
     "evalue": "",
     "output_type": "error",
     "traceback": [
      "\u001b[1;31m---------------------------------------------------------------------------\u001b[0m",
      "\u001b[1;31mKeyboardInterrupt\u001b[0m                         Traceback (most recent call last)",
      "\u001b[1;32m<ipython-input-39-58544ec114af>\u001b[0m in \u001b[0;36m<module>\u001b[1;34m()\u001b[0m\n\u001b[0;32m      7\u001b[0m     \u001b[1;32mwhile\u001b[0m \u001b[1;32mnot\u001b[0m \u001b[0mdone\u001b[0m\u001b[1;33m:\u001b[0m\u001b[1;33m\u001b[0m\u001b[0m\n\u001b[0;32m      8\u001b[0m         \u001b[1;32mif\u001b[0m \u001b[0mrender\u001b[0m\u001b[1;33m:\u001b[0m \u001b[0menv\u001b[0m\u001b[1;33m.\u001b[0m\u001b[0mrender\u001b[0m\u001b[1;33m(\u001b[0m\u001b[1;33m)\u001b[0m\u001b[1;33m\u001b[0m\u001b[0m\n\u001b[1;32m----> 9\u001b[1;33m         \u001b[0ma\u001b[0m \u001b[1;33m=\u001b[0m \u001b[0magent\u001b[0m\u001b[1;33m.\u001b[0m\u001b[0mact\u001b[0m\u001b[1;33m(\u001b[0m\u001b[0ms\u001b[0m\u001b[1;33m)\u001b[0m\u001b[1;33m\u001b[0m\u001b[0m\n\u001b[0m\u001b[0;32m     10\u001b[0m         \u001b[0msp\u001b[0m\u001b[1;33m,\u001b[0m \u001b[0mr\u001b[0m\u001b[1;33m,\u001b[0m \u001b[0mdone\u001b[0m\u001b[1;33m,\u001b[0m \u001b[0m_\u001b[0m \u001b[1;33m=\u001b[0m \u001b[0menv\u001b[0m\u001b[1;33m.\u001b[0m\u001b[0mstep\u001b[0m\u001b[1;33m(\u001b[0m\u001b[0ma\u001b[0m\u001b[1;33m)\u001b[0m\u001b[1;33m\u001b[0m\u001b[0m\n\u001b[0;32m     11\u001b[0m         \u001b[0mmemory\u001b[0m\u001b[1;33m.\u001b[0m\u001b[0mappend\u001b[0m\u001b[1;33m(\u001b[0m\u001b[1;33m(\u001b[0m\u001b[0ms\u001b[0m\u001b[1;33m,\u001b[0m \u001b[0ma\u001b[0m\u001b[1;33m,\u001b[0m \u001b[0mr\u001b[0m\u001b[1;33m,\u001b[0m \u001b[0msp\u001b[0m\u001b[1;33m)\u001b[0m\u001b[1;33m)\u001b[0m\u001b[1;33m\u001b[0m\u001b[0m\n",
      "\u001b[1;32m<ipython-input-36-108f9547bde9>\u001b[0m in \u001b[0;36mact\u001b[1;34m(self, s)\u001b[0m\n\u001b[0;32m     23\u001b[0m         \u001b[0ms_tmp\u001b[0m \u001b[1;33m=\u001b[0m \u001b[0ms\u001b[0m\u001b[1;33m.\u001b[0m\u001b[0mreshape\u001b[0m\u001b[1;33m(\u001b[0m\u001b[0mtuple\u001b[0m\u001b[1;33m(\u001b[0m\u001b[1;33m[\u001b[0m\u001b[1;36m1\u001b[0m\u001b[1;33m]\u001b[0m \u001b[1;33m+\u001b[0m \u001b[0mlist\u001b[0m\u001b[1;33m(\u001b[0m\u001b[0mnp\u001b[0m\u001b[1;33m.\u001b[0m\u001b[0mroll\u001b[0m\u001b[1;33m(\u001b[0m\u001b[0ms\u001b[0m\u001b[1;33m.\u001b[0m\u001b[0mshape\u001b[0m\u001b[1;33m,\u001b[0m \u001b[1;36m1\u001b[0m\u001b[1;33m)\u001b[0m\u001b[1;33m)\u001b[0m\u001b[1;33m)\u001b[0m\u001b[1;33m)\u001b[0m\u001b[1;33m\u001b[0m\u001b[0m\n\u001b[0;32m     24\u001b[0m         \u001b[0ms_tmp\u001b[0m \u001b[1;33m=\u001b[0m \u001b[0mnp\u001b[0m\u001b[1;33m.\u001b[0m\u001b[0mconcatenate\u001b[0m\u001b[1;33m(\u001b[0m\u001b[1;33m(\u001b[0m\u001b[0ms_tmp\u001b[0m\u001b[1;33m,\u001b[0m \u001b[0mnp\u001b[0m\u001b[1;33m.\u001b[0m\u001b[0mzeros\u001b[0m\u001b[1;33m(\u001b[0m\u001b[1;33m(\u001b[0m\u001b[0ms_tmp\u001b[0m\u001b[1;33m.\u001b[0m\u001b[0mshape\u001b[0m\u001b[1;33m[\u001b[0m\u001b[1;36m0\u001b[0m\u001b[1;33m]\u001b[0m\u001b[1;33m,\u001b[0m \u001b[1;36m3\u001b[0m\u001b[1;33m,\u001b[0m \u001b[1;36m6\u001b[0m\u001b[1;33m,\u001b[0m \u001b[0ms_tmp\u001b[0m\u001b[1;33m.\u001b[0m\u001b[0mshape\u001b[0m\u001b[1;33m[\u001b[0m\u001b[1;36m3\u001b[0m\u001b[1;33m]\u001b[0m\u001b[1;33m)\u001b[0m\u001b[1;33m,\u001b[0m \u001b[0mdtype\u001b[0m\u001b[1;33m=\u001b[0m\u001b[1;34m'uint8'\u001b[0m\u001b[1;33m)\u001b[0m\u001b[1;33m)\u001b[0m\u001b[1;33m,\u001b[0m \u001b[0maxis\u001b[0m\u001b[1;33m=\u001b[0m\u001b[1;36m2\u001b[0m\u001b[1;33m)\u001b[0m\u001b[1;33m\u001b[0m\u001b[0m\n\u001b[1;32m---> 25\u001b[1;33m         \u001b[0ms_tmp\u001b[0m \u001b[1;33m=\u001b[0m \u001b[0mencoder\u001b[0m\u001b[1;33m.\u001b[0m\u001b[0mpredict\u001b[0m\u001b[1;33m(\u001b[0m\u001b[0ms_tmp\u001b[0m\u001b[1;33m.\u001b[0m\u001b[0mastype\u001b[0m\u001b[1;33m(\u001b[0m\u001b[1;34m'float16'\u001b[0m\u001b[1;33m)\u001b[0m\u001b[1;33m/\u001b[0m\u001b[1;36m255\u001b[0m\u001b[1;33m)\u001b[0m\u001b[1;33m.\u001b[0m\u001b[0mravel\u001b[0m\u001b[1;33m(\u001b[0m\u001b[1;33m)\u001b[0m\u001b[1;33m\u001b[0m\u001b[0m\n\u001b[0m\u001b[0;32m     26\u001b[0m         Phi_s = self.feature_map.transform(self.scaler.transform(\n\u001b[0;32m     27\u001b[0m                 np.hstack((np.arange(self.nA)[:, np.newaxis], np.repeat(s_tmp[np.newaxis, :], self.nA, axis=0)))))\n",
      "\u001b[1;31mKeyboardInterrupt\u001b[0m: "
     ]
    }
   ],
   "source": [
    "for e in range(20):\n",
    "    s = env.reset()\n",
    "    episode = 0\n",
    "    done = False\n",
    "    memory = []\n",
    "    \n",
    "    while not done:\n",
    "        if render: env.render()\n",
    "        a = agent.act(s)\n",
    "        sp, r, done, _ = env.step(a)\n",
    "        memory.append((s, a, r, sp))\n",
    "        s = sp\n",
    "        episode += 1\n",
    "    \n",
    "    print('episode {} finished in {} steps'.format(e, episode))\n",
    "    \n",
    "    agent.update(memory)"
   ]
  },
  {
   "cell_type": "code",
   "execution_count": 6,
   "metadata": {
    "collapsed": false
   },
   "outputs": [
    {
     "ename": "NameError",
     "evalue": "name 'plt' is not defined",
     "output_type": "error",
     "traceback": [
      "\u001b[0;31m---------------------------------------------------------------------------\u001b[0m",
      "\u001b[0;31mNameError\u001b[0m                                 Traceback (most recent call last)",
      "\u001b[0;32m<ipython-input-6-6dc76ae1f66b>\u001b[0m in \u001b[0;36m<module>\u001b[0;34m()\u001b[0m\n\u001b[0;32m----> 1\u001b[0;31m \u001b[0mplt\u001b[0m\u001b[0;34m.\u001b[0m\u001b[0mplot\u001b[0m\u001b[0;34m(\u001b[0m\u001b[0mhistory\u001b[0m\u001b[0;34m.\u001b[0m\u001b[0mlosses\u001b[0m\u001b[0;34m)\u001b[0m\u001b[0;34m\u001b[0m\u001b[0m\n\u001b[0m\u001b[1;32m      2\u001b[0m \u001b[0mplt\u001b[0m\u001b[0;34m.\u001b[0m\u001b[0mshow\u001b[0m\u001b[0;34m(\u001b[0m\u001b[0;34m)\u001b[0m\u001b[0;34m\u001b[0m\u001b[0m\n",
      "\u001b[0;31mNameError\u001b[0m: name 'plt' is not defined"
     ]
    }
   ],
   "source": [
    "plt.plot(history.losses)\n",
    "plt.show()"
   ]
  },
  {
   "cell_type": "code",
   "execution_count": null,
   "metadata": {
    "collapsed": true
   },
   "outputs": [],
   "source": []
  }
 ],
 "metadata": {
  "kernelspec": {
   "display_name": "Python 2",
   "language": "python",
   "name": "python2"
  },
  "language_info": {
   "codemirror_mode": {
    "name": "ipython",
    "version": 2
   },
   "file_extension": ".py",
   "mimetype": "text/x-python",
   "name": "python",
   "nbconvert_exporter": "python",
   "pygments_lexer": "ipython2",
   "version": "2.7.10"
  }
 },
 "nbformat": 4,
 "nbformat_minor": 0
}
