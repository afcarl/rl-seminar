{
 "cells": [
  {
   "cell_type": "code",
   "execution_count": 1,
   "metadata": {
    "collapsed": true
   },
   "outputs": [],
   "source": [
    "from __future__ import print_function, division\n",
    "import gym\n",
    "import time\n",
    "import numpy as np\n",
    "import matplotlib.pyplot as plt\n",
    "seed = 417\n",
    "%matplotlib inline"
   ]
  },
  {
   "cell_type": "markdown",
   "metadata": {},
   "source": [
    "## Convolutional autoencoder for feature engineering"
   ]
  },
  {
   "cell_type": "code",
   "execution_count": 2,
   "metadata": {
    "collapsed": false
   },
   "outputs": [
    {
     "name": "stderr",
     "output_type": "stream",
     "text": [
      "Using Theano backend.\n",
      "Using gpu device 0: GeForce GT 650M (CNMeM is disabled, cuDNN not available)\n"
     ]
    }
   ],
   "source": [
    "from keras import backend as K\n",
    "K.set_image_dim_ordering('th')"
   ]
  },
  {
   "cell_type": "markdown",
   "metadata": {},
   "source": [
    "### Let's collect some samples"
   ]
  },
  {
   "cell_type": "code",
   "execution_count": 3,
   "metadata": {
    "collapsed": false,
    "scrolled": true
   },
   "outputs": [
    {
     "name": "stderr",
     "output_type": "stream",
     "text": [
      "INFO:gym.envs.registration:Making new env: Skiing-v0\n",
      "[2017-01-18 19:19:57,315] Making new env: Skiing-v0\n"
     ]
    }
   ],
   "source": [
    "max_observations = 2000\n",
    "observations = []\n",
    "render = False\n",
    "count = 0\n",
    "\n",
    "env_name = 'Skiing-v0'\n",
    "env = gym.make(env_name)\n",
    "\n",
    "while True:\n",
    "    if len(observations) >= max_observations: break\n",
    "    s = env.reset()\n",
    "    if count % 10 == 0:\n",
    "        observations.append(s)\n",
    "    count += 1\n",
    "    done = False\n",
    "    \n",
    "    while not done:\n",
    "        if render: env.render()\n",
    "        if len(observations) >= max_observations: break\n",
    "        \n",
    "        a = env.action_space.sample()\n",
    "        s, r, done, _ = env.step(a)\n",
    "        if count % 10 == 0:\n",
    "            observations.append(s)\n",
    "        count += 1\n",
    "        \n",
    "env.close()"
   ]
  },
  {
   "cell_type": "markdown",
   "metadata": {},
   "source": [
    "### Some preprocessing"
   ]
  },
  {
   "cell_type": "code",
   "execution_count": 4,
   "metadata": {
    "collapsed": true
   },
   "outputs": [],
   "source": [
    "x_train = np.array(observations)\n",
    "x_train = np.reshape(x_train, tuple([len(x_train)] + list(np.roll(x_train.shape[1:], 1))))\n",
    "x_train = np.concatenate((x_train, np.zeros((x_train.shape[0], 3, 6, x_train.shape[3]), dtype='uint8')), axis=2)\n",
    "x_train = x_train.astype('float16') / 255"
   ]
  },
  {
   "cell_type": "markdown",
   "metadata": {},
   "source": [
    "### Architecture"
   ]
  },
  {
   "cell_type": "code",
   "execution_count": 5,
   "metadata": {
    "collapsed": true
   },
   "outputs": [],
   "source": [
    "from keras.layers import Input, Dense, Convolution2D, MaxPooling2D, UpSampling2D\n",
    "from keras.models import Model\n",
    "border_mode = 'same'\n",
    "\n",
    "input_img = Input(shape=x_train.shape[1:])\n",
    "\n",
    "x = Convolution2D(16, 3, 3, activation='relu', border_mode=border_mode)(input_img)\n",
    "x = MaxPooling2D((2, 2), border_mode=border_mode)(x)\n",
    "x = Convolution2D(16, 3, 3, activation='relu', border_mode=border_mode)(x)\n",
    "x = MaxPooling2D((2, 2), border_mode=border_mode)(x)\n",
    "x = Convolution2D(16, 3, 3, activation='relu', border_mode=border_mode)(x)\n",
    "x = MaxPooling2D((2, 2), border_mode=border_mode)(x)\n",
    "x = Convolution2D(8, 3, 3, activation='relu', border_mode=border_mode)(x)\n",
    "encoded = MaxPooling2D((2, 2), border_mode=border_mode)(x)\n",
    "\n",
    "# at this point the representation is (8, 4, 4) i.e. 128-dimensional\n",
    "\n",
    "x = Convolution2D(8, 3, 3, activation='relu', border_mode=border_mode)(encoded)\n",
    "x = UpSampling2D((2, 2))(x)\n",
    "x = Convolution2D(16, 3, 3, activation='relu', border_mode=border_mode)(x)\n",
    "x = UpSampling2D((2, 2))(x)\n",
    "x = Convolution2D(16, 3, 3, activation='relu', border_mode=border_mode)(x)\n",
    "x = UpSampling2D((2, 2))(x)\n",
    "x = Convolution2D(16, 3, 3, activation='relu', border_mode=border_mode)(x)\n",
    "x = UpSampling2D((2, 2))(x)\n",
    "decoded = Convolution2D(3, 3, 3, activation='relu', border_mode=border_mode)(x)\n",
    "\n",
    "encoder = Model(input_img, encoded)\n",
    "autoencoder = Model(input_img, decoded)\n",
    "autoencoder.compile(optimizer='adadelta', loss='mse')"
   ]
  },
  {
   "cell_type": "code",
   "execution_count": 6,
   "metadata": {
    "collapsed": false,
    "scrolled": false
   },
   "outputs": [
    {
     "name": "stdout",
     "output_type": "stream",
     "text": [
      "____________________________________________________________________________________________________\n",
      "Layer (type)                     Output Shape          Param #     Connected to                     \n",
      "====================================================================================================\n",
      "input_1 (InputLayer)             (None, 3, 256, 160)   0                                            \n",
      "____________________________________________________________________________________________________\n",
      "convolution2d_1 (Convolution2D)  (None, 16, 256, 160)  448         input_1[0][0]                    \n",
      "____________________________________________________________________________________________________\n",
      "maxpooling2d_1 (MaxPooling2D)    (None, 16, 128, 80)   0           convolution2d_1[0][0]            \n",
      "____________________________________________________________________________________________________\n",
      "convolution2d_2 (Convolution2D)  (None, 16, 128, 80)   2320        maxpooling2d_1[0][0]             \n",
      "____________________________________________________________________________________________________\n",
      "maxpooling2d_2 (MaxPooling2D)    (None, 16, 64, 40)    0           convolution2d_2[0][0]            \n",
      "____________________________________________________________________________________________________\n",
      "convolution2d_3 (Convolution2D)  (None, 16, 64, 40)    2320        maxpooling2d_2[0][0]             \n",
      "____________________________________________________________________________________________________\n",
      "maxpooling2d_3 (MaxPooling2D)    (None, 16, 32, 20)    0           convolution2d_3[0][0]            \n",
      "____________________________________________________________________________________________________\n",
      "convolution2d_4 (Convolution2D)  (None, 8, 32, 20)     1160        maxpooling2d_3[0][0]             \n",
      "____________________________________________________________________________________________________\n",
      "maxpooling2d_4 (MaxPooling2D)    (None, 8, 16, 10)     0           convolution2d_4[0][0]            \n",
      "____________________________________________________________________________________________________\n",
      "convolution2d_5 (Convolution2D)  (None, 8, 16, 10)     584         maxpooling2d_4[0][0]             \n",
      "____________________________________________________________________________________________________\n",
      "upsampling2d_1 (UpSampling2D)    (None, 8, 32, 20)     0           convolution2d_5[0][0]            \n",
      "____________________________________________________________________________________________________\n",
      "convolution2d_6 (Convolution2D)  (None, 16, 32, 20)    1168        upsampling2d_1[0][0]             \n",
      "____________________________________________________________________________________________________\n",
      "upsampling2d_2 (UpSampling2D)    (None, 16, 64, 40)    0           convolution2d_6[0][0]            \n",
      "____________________________________________________________________________________________________\n",
      "convolution2d_7 (Convolution2D)  (None, 16, 64, 40)    2320        upsampling2d_2[0][0]             \n",
      "____________________________________________________________________________________________________\n",
      "upsampling2d_3 (UpSampling2D)    (None, 16, 128, 80)   0           convolution2d_7[0][0]            \n",
      "____________________________________________________________________________________________________\n",
      "convolution2d_8 (Convolution2D)  (None, 16, 128, 80)   2320        upsampling2d_3[0][0]             \n",
      "____________________________________________________________________________________________________\n",
      "upsampling2d_4 (UpSampling2D)    (None, 16, 256, 160)  0           convolution2d_8[0][0]            \n",
      "____________________________________________________________________________________________________\n",
      "convolution2d_9 (Convolution2D)  (None, 3, 256, 160)   435         upsampling2d_4[0][0]             \n",
      "====================================================================================================\n",
      "Total params: 13075\n",
      "____________________________________________________________________________________________________\n"
     ]
    }
   ],
   "source": [
    "autoencoder.summary()"
   ]
  },
  {
   "cell_type": "markdown",
   "metadata": {},
   "source": [
    "### Training"
   ]
  },
  {
   "cell_type": "code",
   "execution_count": 7,
   "metadata": {
    "collapsed": false
   },
   "outputs": [],
   "source": [
    "import keras\n",
    "class LossHistory(keras.callbacks.Callback):\n",
    "    def on_train_begin(self, logs={}):\n",
    "        self.losses = []\n",
    "        self.val_losses = []\n",
    "\n",
    "    def on_batch_end(self, batch, logs={}):\n",
    "        self.losses.append(float(logs.get('loss')))\n",
    "    \n",
    "    def on_epoch_end(self, epoch, logs={}):\n",
    "        self.val_losses.append(logs.get('val_loss'))\n"
   ]
  },
  {
   "cell_type": "code",
   "execution_count": 8,
   "metadata": {
    "collapsed": false
   },
   "outputs": [
    {
     "name": "stdout",
     "output_type": "stream",
     "text": [
      "Epoch 1/4\n",
      "2000/2000 [==============================] - 145s - loss: 0.1812   \n",
      "Epoch 2/4\n",
      "2000/2000 [==============================] - 145s - loss: 0.0997   \n",
      "Epoch 3/4\n",
      "2000/2000 [==============================] - 145s - loss: 0.0852   \n",
      "Epoch 4/4\n",
      "2000/2000 [==============================] - 145s - loss: 0.0813   \n"
     ]
    },
    {
     "data": {
      "text/plain": [
       "<keras.callbacks.History at 0x7fe8902df410>"
      ]
     },
     "execution_count": 8,
     "metadata": {},
     "output_type": "execute_result"
    }
   ],
   "source": [
    "history = LossHistory()\n",
    "autoencoder.fit(x_train, x_train,\n",
    "                nb_epoch=4,\n",
    "                batch_size=32,\n",
    "                shuffle=True,\n",
    "                callbacks=[history])"
   ]
  },
  {
   "cell_type": "code",
   "execution_count": 9,
   "metadata": {
    "collapsed": false
   },
   "outputs": [
    {
     "data": {
      "image/png": "[encoded data removed]",
      "text/plain": [
       "<matplotlib.figure.Figure at 0x7fe8a273ff50>"
      ]
     },
     "metadata": {},
     "output_type": "display_data"
    }
   ],
   "source": [
    "plt.plot(history.losses)\n",
    "plt.show()"
   ]
  },
  {
   "cell_type": "markdown",
   "metadata": {},
   "source": [
    "## Linear action-value function approximation for control"
   ]
  },
  {
   "cell_type": "markdown",
   "metadata": {},
   "source": [
    "### Since we can obtain features for different states, we will have different feature vectors for different actions"
   ]
  },
  {
   "cell_type": "code",
   "execution_count": 75,
   "metadata": {
    "collapsed": true
   },
   "outputs": [],
   "source": [
    "class ActionValueFunctionApproximator:\n",
    "    def __init__(self, nA, dim, alpha=0.01):\n",
    "        self.w = np.random.rand(nA, dim)\n",
    "        self.alpha = alpha\n",
    "        \n",
    "    def update(self, experience):\n",
    "        all_actions = np.array(map(lambda x: x[0], experience))\n",
    "        all_features = np.array(map(lambda x: x[1], experience))\n",
    "        G = np.cumsum(map(lambda x: x[2], experience)[::-1])[::-1]\n",
    "        Q = self.predict(all_features.T)\n",
    "        Q = Q[all_actions, range(len(experience))]\n",
    "        grads = (G - Q)[:, np.newaxis] * all_features\n",
    "        \n",
    "        for action in range(self.w.shape[0]):\n",
    "            self.w[action] += self.alpha * np.mean(grads[all_actions == action], axis=0)\n",
    "    \n",
    "    def predict(self, features):\n",
    "        return np.dot(self.w, features)"
   ]
  },
  {
   "cell_type": "code",
   "execution_count": 76,
   "metadata": {
    "collapsed": true
   },
   "outputs": [],
   "source": [
    "dim = np.prod(encoder.layers[-1].output_shape[1:])\n",
    "avf = ActionValueFunctionApproximator(env.action_space.n, dim, alpha=0.0001)"
   ]
  },
  {
   "cell_type": "code",
   "execution_count": 81,
   "metadata": {
    "collapsed": false
   },
   "outputs": [
    {
     "name": "stderr",
     "output_type": "stream",
     "text": [
      "INFO:gym.envs.registration:Making new env: Skiing-v0\n",
      "[2017-01-18 20:51:39,665] Making new env: Skiing-v0\n"
     ]
    },
    {
     "name": "stdout",
     "output_type": "stream",
     "text": [
      "episode 0 finished in 2012 steps\n"
     ]
    }
   ],
   "source": [
    "eps = 0.9\n",
    "render = True\n",
    "env_name = 'Skiing-v0'\n",
    "env = gym.make(env_name)\n",
    "#np.random.seed(seed)\n",
    "\n",
    "for episode in range(1):\n",
    "    s = env.reset()\n",
    "    t = 0\n",
    "    done = False\n",
    "    experience = []\n",
    "    \n",
    "    while not done:\n",
    "        if render: env.render()\n",
    "\n",
    "        s_tmp = s.reshape(tuple([1] + list(np.roll(s.shape, 1))))\n",
    "        s_tmp = np.concatenate((s_tmp, np.zeros((s_tmp.shape[0], 3, 6, s_tmp.shape[3]), dtype='uint8')), axis=2)\n",
    "        features = encoder.predict(s_tmp.astype('float16')/255).ravel()\n",
    "        \n",
    "        if eps > np.random.rand():\n",
    "            a = env.action_space.sample()\n",
    "        else:\n",
    "            a = np.argmax(avf.predict(features))\n",
    "        sp, r, done, _ = env.step(a)\n",
    "        experience.append((a, features, r))\n",
    "        \n",
    "        \n",
    "        s = sp\n",
    "        t += 1\n",
    "        \n",
    "    avf.update(experience)\n",
    "    eps = eps * 0.9\n",
    "    \n",
    "    print('episode {} finished in {} steps'.format(episode, t))"
   ]
  },
  {
   "cell_type": "code",
   "execution_count": null,
   "metadata": {
    "collapsed": true
   },
   "outputs": [],
   "source": []
  }
 ],
 "metadata": {
  "kernelspec": {
   "display_name": "Python 2",
   "language": "python",
   "name": "python2"
  },
  "language_info": {
   "codemirror_mode": {
    "name": "ipython",
    "version": 2
   },
   "file_extension": ".py",
   "mimetype": "text/x-python",
   "name": "python",
   "nbconvert_exporter": "python",
   "pygments_lexer": "ipython2",
   "version": "2.7.12"
  }
 },
 "nbformat": 4,
 "nbformat_minor": 0
}
