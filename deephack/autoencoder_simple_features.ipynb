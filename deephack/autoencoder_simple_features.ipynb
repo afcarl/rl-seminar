{
 "cells": [
  {
   "cell_type": "code",
   "execution_count": 1,
   "metadata": {
    "collapsed": false
   },
   "outputs": [],
   "source": [
    "%load_ext autoreload\n",
    "%autoreload 2\n",
    "#%matplotlib nbagg\n",
    "from Object_detection_features import *\n",
    "import gym\n",
    "from gym import wrappers\n",
    "\n",
    "% matplotlib inline"
   ]
  },
  {
   "cell_type": "code",
   "execution_count": 2,
   "metadata": {
    "collapsed": false
   },
   "outputs": [
    {
     "name": "stderr",
     "output_type": "stream",
     "text": [
      "INFO:gym.envs.registration:Making new env: Skiing-v0\n",
      "[2017-01-21 17:28:24,482] Making new env: Skiing-v0\n"
     ]
    }
   ],
   "source": [
    "env = gym.make('Skiing-v0')\n",
    "# Самая долгая часть. Считается один раз. В конструкторе находятся все классы объектов и фон\n",
    "odf = ObjectDetectionFeatures(env)"
   ]
  },
  {
   "cell_type": "code",
   "execution_count": 3,
   "metadata": {
    "collapsed": true
   },
   "outputs": [],
   "source": [
    "# Генерим картинку\n",
    "image = env.ale.getScreenGrayscale()\n",
    "# Создаем новый вектор признаков\n",
    "new_features = odf.get_distance_features(image)"
   ]
  },
  {
   "cell_type": "code",
   "execution_count": 4,
   "metadata": {
    "collapsed": false
   },
   "outputs": [
    {
     "data": {
      "text/plain": [
       "<matplotlib.image.AxesImage at 0x10e2ac6a0>"
      ]
     },
     "execution_count": 4,
     "metadata": {},
     "output_type": "execute_result"
    },
    {
     "data": {
      "image/png": "[encoded data removed]",
      "text/plain": [
       "<matplotlib.figure.Figure at 0x105d96748>"
      ]
     },
     "metadata": {},
     "output_type": "display_data"
    }
   ],
   "source": [
    "plt.imshow(image[:,:,0], cmap='Greys')"
   ]
  },
  {
   "cell_type": "code",
   "execution_count": 5,
   "metadata": {
    "collapsed": true
   },
   "outputs": [],
   "source": [
    "# на i-й позиции списка cl находится яркость пикселя, характерного для i-го класса\n",
    "cl = list(odf.all_classes)"
   ]
  },
  {
   "cell_type": "code",
   "execution_count": 6,
   "metadata": {
    "collapsed": false
   },
   "outputs": [
    {
     "data": {
      "text/plain": [
       "array([  12.0021645 ,  -95.49494949,  -69.57983193,  -75.26143791,\n",
       "          3.71428571, -113.18888889,  -82.28787879,   14.93939394,\n",
       "         -8.28787879,  -17.69393939,   74.        ,  -32.63333333])"
      ]
     },
     "execution_count": 6,
     "metadata": {},
     "output_type": "execute_result"
    }
   ],
   "source": [
    "# Признаки построены следующем образом:\n",
    "# Для каждой пары классов находятся 2 ближайших объекта (по центрам масс). \n",
    "# Далее для каждой такой пары считаются проекции расстояний на x и на y. \n",
    "# В первой позиции стоит проекция на х расстояния между ближайшими объектами из нулевого и первого класса и так далее  \n",
    "new_features"
   ]
  },
  {
   "cell_type": "code",
   "execution_count": 7,
   "metadata": {
    "collapsed": true
   },
   "outputs": [],
   "source": [
    "# на i-й позиции списка cl находится яркость пикселя, характерного для i-го класса\n",
    "cl = list(odf.all_classes)"
   ]
  },
  {
   "cell_type": "code",
   "execution_count": 8,
   "metadata": {
    "collapsed": false
   },
   "outputs": [
    {
     "data": {
      "text/plain": [
       "array([  12.0021645 ,  -95.49494949,  -69.57983193,  -75.26143791,\n",
       "          3.71428571, -113.18888889,  -82.28787879,   14.93939394,\n",
       "         -8.28787879,  -17.69393939,   74.        ,  -32.63333333])"
      ]
     },
     "execution_count": 8,
     "metadata": {},
     "output_type": "execute_result"
    }
   ],
   "source": [
    "# Признаки построены следующем образом:\n",
    "# Для каждой пары классов находятся 2 ближайших объекта (по центрам масс). \n",
    "# Далее для каждой такой пары считаются проекции расстояний на x и на y. \n",
    "# В первой позиции стоит проекция на х расстояния между ближайшими объектами из нулевого и первого класса и так далее  \n",
    "new_features"
   ]
  },
  {
   "cell_type": "code",
   "execution_count": 9,
   "metadata": {
    "collapsed": false
   },
   "outputs": [
    {
     "data": {
      "image/png": "[encoded data removed]",
      "text/plain": [
       "<matplotlib.figure.Figure at 0x10e13bf98>"
      ]
     },
     "metadata": {},
     "output_type": "display_data"
    }
   ],
   "source": [
    "plt.imshow((image[:, :, 0] == cl[0]) | (image[:, :, 0] == cl[1]))\n",
    "plt.show()"
   ]
  },
  {
   "cell_type": "code",
   "execution_count": 11,
   "metadata": {
    "collapsed": false
   },
   "outputs": [
    {
     "name": "stderr",
     "output_type": "stream",
     "text": [
      "/Users/IzmailovPavel/Documents/Education/Programming/Machine Learning/rl/deephack/Object_detection_features.py:211: VisibleDeprecationWarning: using a non-integer number instead of an integer will result in an error in the future\n",
      "  new_image[x_low - 1:x_top + 1, y_left - 1:y_right + 1] = color\n"
     ]
    }
   ],
   "source": [
    "# Генерим картинку\n",
    "image = env.ale.getScreenGrayscale()\n",
    "# Делаем упрощение\n",
    "new_im = odf.get_simple_image(image[:, :, 0])"
   ]
  },
  {
   "cell_type": "code",
   "execution_count": 12,
   "metadata": {
    "collapsed": false
   },
   "outputs": [
    {
     "data": {
      "image/png": "[encoded data removed]",
      "text/plain": [
       "<matplotlib.figure.Figure at 0x10e171278>"
      ]
     },
     "metadata": {},
     "output_type": "display_data"
    }
   ],
   "source": [
    "plt.imshow(image[:, :, 0])\n",
    "plt.show()"
   ]
  },
  {
   "cell_type": "code",
   "execution_count": 13,
   "metadata": {
    "collapsed": false
   },
   "outputs": [
    {
     "data": {
      "image/png": "[encoded data removed]",
      "text/plain": [
       "<matplotlib.figure.Figure at 0x105e15080>"
      ]
     },
     "metadata": {},
     "output_type": "display_data"
    }
   ],
   "source": [
    "plt.imshow(new_im)\n",
    "plt.show()"
   ]
  },
  {
   "cell_type": "code",
   "execution_count": 18,
   "metadata": {
    "collapsed": false
   },
   "outputs": [],
   "source": [
    "from skimage.transform import resize\n",
    "from skimage.color import rgb2gray"
   ]
  },
  {
   "cell_type": "code",
   "execution_count": 16,
   "metadata": {
    "collapsed": false
   },
   "outputs": [
    {
     "data": {
      "image/png": "[encoded data removed]",
      "text/plain": [
       "<matplotlib.figure.Figure at 0x10e16ee48>"
      ]
     },
     "metadata": {},
     "output_type": "display_data"
    }
   ],
   "source": [
    "plt.imshow(new_im)\n",
    "plt.show()"
   ]
  },
  {
   "cell_type": "code",
   "execution_count": 17,
   "metadata": {
    "collapsed": true
   },
   "outputs": [],
   "source": [
    "import warnings\n",
    "warnings.filterwarnings('ignore')"
   ]
  },
  {
   "cell_type": "code",
   "execution_count": 26,
   "metadata": {
    "collapsed": false
   },
   "outputs": [
    {
     "name": "stderr",
     "output_type": "stream",
     "text": [
      "INFO:gym.envs.registration:Making new env: Skiing-v0\n",
      "[2017-01-21 06:53:24,740] Making new env: Skiing-v0\n"
     ]
    },
    {
     "name": "stdout",
     "output_type": "stream",
     "text": [
      "1000\n",
      "2000\n",
      "3000\n",
      "4000\n",
      "5000\n",
      "6000\n",
      "7000\n",
      "8000\n",
      "9000\n",
      "10000\n",
      "11000\n",
      "12000\n",
      "13000\n",
      "14000\n",
      "15000\n",
      "16000\n",
      "17000\n",
      "18000\n",
      "19000\n",
      "20000\n"
     ]
    },
    {
     "name": "stderr",
     "output_type": "stream",
     "text": [
      "/Users/IzmailovPavel/Documents/Education/Programming/Machine Learning/rl/deephack/Object_detection_features.py:211: VisibleDeprecationWarning: using a non-integer number instead of an integer will result in an error in the future\n",
      "  new_image[x_low - 1:x_top + 1, y_left - 1:y_right + 1] = color\n"
     ]
    }
   ],
   "source": [
    "max_observations = 20000\n",
    "observations = []\n",
    "render = False\n",
    "count = 0\n",
    "\n",
    "env_name = 'Skiing-v0'\n",
    "env = gym.make(env_name)\n",
    "\n",
    "while True:\n",
    "    if len(observations) >= max_observations: break\n",
    "    s = env.reset()\n",
    "    if count % 10 == 0:\n",
    "        observation = env.ale.getScreenGrayscale()\n",
    "        observations.append(odf.get_simple_image(rgb2gray(observation[:, :, 0])))\n",
    "    count += 1\n",
    "    done = False\n",
    "\n",
    "    while not done:\n",
    "        if render: env.render()\n",
    "        if len(observations) >= max_observations: break\n",
    "        a = env.action_space.sample()\n",
    "        s, r, done, _ = env.step(a)\n",
    "        if count % 10 == 0:\n",
    "            observation = env.ale.getScreenGrayscale()\n",
    "            observations.append(odf.get_simple_image(rgb2gray(observation[:, :, 0])))\n",
    "            if not len(observations) % 1000:\n",
    "                print(len(observations))\n",
    "        a = env.action_space.sample()\n",
    "        count += 1\n",
    "        \n",
    "env.close()"
   ]
  },
  {
   "cell_type": "code",
   "execution_count": 28,
   "metadata": {
    "collapsed": false
   },
   "outputs": [],
   "source": [
    "observations = np.array(observations)"
   ]
  },
  {
   "cell_type": "code",
   "execution_count": 29,
   "metadata": {
    "collapsed": true
   },
   "outputs": [],
   "source": [
    "np.save('observations_simple_20k.npy', observations)"
   ]
  },
  {
   "cell_type": "code",
   "execution_count": 6,
   "metadata": {
    "collapsed": true
   },
   "outputs": [],
   "source": [
    "observations = np.load('observations_simple_20k.npy')"
   ]
  },
  {
   "cell_type": "code",
   "execution_count": 7,
   "metadata": {
    "collapsed": false
   },
   "outputs": [
    {
     "data": {
      "text/plain": [
       "(20000, 60, 60)"
      ]
     },
     "execution_count": 7,
     "metadata": {},
     "output_type": "execute_result"
    }
   ],
   "source": [
    "observations.shape"
   ]
  },
  {
   "cell_type": "code",
   "execution_count": 8,
   "metadata": {
    "collapsed": true
   },
   "outputs": [],
   "source": [
    "observations = observations.reshape(20000, 1, 60, 60)"
   ]
  },
  {
   "cell_type": "code",
   "execution_count": 9,
   "metadata": {
    "collapsed": false
   },
   "outputs": [
    {
     "name": "stderr",
     "output_type": "stream",
     "text": [
      "Using TensorFlow backend.\n"
     ]
    }
   ],
   "source": [
    "from keras.layers import Input, Dense, Convolution2D, MaxPooling2D, UpSampling2D, Reshape, Flatten\n",
    "from keras.models import Model\n",
    "border_mode = 'same'\n",
    "\n",
    "input_img = Input(shape=observations.shape[1:])\n",
    "\n",
    "x = Convolution2D(16, 8, 8, activation='relu', border_mode=border_mode)(input_img)\n",
    "x = MaxPooling2D((2, 2), border_mode=border_mode)(x)\n",
    "x = Convolution2D(32, 4, 4, activation='relu', border_mode=border_mode)(x)\n",
    "x = MaxPooling2D((2, 2), border_mode=border_mode)(x)\n",
    "filters_shape = x.get_shape()\n",
    "flattened = Flatten()(x)\n",
    "flat_shape = flattened.get_shape()\n",
    "encoded = Dense(64, activation='relu')(flattened)\n",
    "\n",
    "x = Dense(int(flat_shape[1]), activation='relu')(encoded)\n",
    "x = Reshape(tuple([int(shp) for shp in filters_shape[1:]]))(x)\n",
    "x = Convolution2D(32, 4, 4, activation='relu', border_mode=border_mode)(x)\n",
    "x = UpSampling2D((2, 2))(x)\n",
    "x = Convolution2D(16, 8, 8, activation='relu', border_mode=border_mode)(x)\n",
    "x = UpSampling2D((2, 2))(x)\n",
    "x = Convolution2D(1, 3, 3, activation='relu', border_mode=border_mode)(x)\n",
    "\n",
    "decoded = x\n",
    "\n",
    "encoder = Model(input_img, encoded)\n",
    "autoencoder = Model(input_img, decoded)\n",
    "autoencoder.compile(optimizer='adadelta', loss='mse')"
   ]
  },
  {
   "cell_type": "code",
   "execution_count": 10,
   "metadata": {
    "collapsed": false
   },
   "outputs": [
    {
     "name": "stdout",
     "output_type": "stream",
     "text": [
      "____________________________________________________________________________________________________\n",
      "Layer (type)                     Output Shape          Param #     Connected to                     \n",
      "====================================================================================================\n",
      "input_1 (InputLayer)             (None, 1, 60, 60)     0                                            \n",
      "____________________________________________________________________________________________________\n",
      "convolution2d_1 (Convolution2D)  (None, 16, 60, 60)    1040        input_1[0][0]                    \n",
      "____________________________________________________________________________________________________\n",
      "maxpooling2d_1 (MaxPooling2D)    (None, 16, 30, 30)    0           convolution2d_1[0][0]            \n",
      "____________________________________________________________________________________________________\n",
      "convolution2d_2 (Convolution2D)  (None, 32, 30, 30)    8224        maxpooling2d_1[0][0]             \n",
      "____________________________________________________________________________________________________\n",
      "maxpooling2d_2 (MaxPooling2D)    (None, 32, 15, 15)    0           convolution2d_2[0][0]            \n",
      "____________________________________________________________________________________________________\n",
      "flatten_1 (Flatten)              (None, 7200)          0           maxpooling2d_2[0][0]             \n",
      "____________________________________________________________________________________________________\n",
      "dense_1 (Dense)                  (None, 64)            460864      flatten_1[0][0]                  \n",
      "____________________________________________________________________________________________________\n",
      "dense_2 (Dense)                  (None, 7200)          468000      dense_1[0][0]                    \n",
      "____________________________________________________________________________________________________\n",
      "reshape_1 (Reshape)              (None, 32, 15, 15)    0           dense_2[0][0]                    \n",
      "____________________________________________________________________________________________________\n",
      "convolution2d_3 (Convolution2D)  (None, 32, 15, 15)    16416       reshape_1[0][0]                  \n",
      "____________________________________________________________________________________________________\n",
      "upsampling2d_1 (UpSampling2D)    (None, 32, 30, 30)    0           convolution2d_3[0][0]            \n",
      "____________________________________________________________________________________________________\n",
      "convolution2d_4 (Convolution2D)  (None, 16, 30, 30)    32784       upsampling2d_1[0][0]             \n",
      "____________________________________________________________________________________________________\n",
      "upsampling2d_2 (UpSampling2D)    (None, 16, 60, 60)    0           convolution2d_4[0][0]            \n",
      "____________________________________________________________________________________________________\n",
      "convolution2d_5 (Convolution2D)  (None, 1, 60, 60)     145         upsampling2d_2[0][0]             \n",
      "====================================================================================================\n",
      "Total params: 987473\n",
      "____________________________________________________________________________________________________\n"
     ]
    }
   ],
   "source": [
    "autoencoder.summary()"
   ]
  },
  {
   "cell_type": "code",
   "execution_count": 11,
   "metadata": {
    "collapsed": true
   },
   "outputs": [],
   "source": [
    "import keras\n",
    "class LossHistory(keras.callbacks.Callback):\n",
    "    def on_train_begin(self, logs={}):\n",
    "        self.losses = []\n",
    "        self.val_losses = []\n",
    "\n",
    "    def on_batch_end(self, batch, logs={}):\n",
    "        self.losses.append(float(logs.get('loss')))\n",
    "    \n",
    "    def on_epoch_end(self, epoch, logs={}):\n",
    "        self.val_losses.append(logs.get('val_loss'))\n"
   ]
  },
  {
   "cell_type": "code",
   "execution_count": 12,
   "metadata": {
    "collapsed": false
   },
   "outputs": [
    {
     "name": "stdout",
     "output_type": "stream",
     "text": [
      "Epoch 1/40\n",
      "20000/20000 [==============================] - 310s - loss: 466.0637   \n",
      "Epoch 2/40\n",
      "20000/20000 [==============================] - 346s - loss: 177.0336   \n",
      "Epoch 3/40\n",
      "20000/20000 [==============================] - 350s - loss: 132.9763   \n",
      "Epoch 4/40\n",
      "20000/20000 [==============================] - 356s - loss: 111.7421   \n",
      "Epoch 5/40\n",
      "20000/20000 [==============================] - 359s - loss: 96.2776   \n",
      "Epoch 6/40\n",
      "20000/20000 [==============================] - 356s - loss: 84.9050   \n",
      "Epoch 7/40\n",
      "20000/20000 [==============================] - 354s - loss: 77.5212   \n",
      "Epoch 8/40\n",
      "20000/20000 [==============================] - 357s - loss: 70.2496   \n",
      "Epoch 9/40\n",
      "20000/20000 [==============================] - 357s - loss: 66.2044   \n",
      "Epoch 10/40\n",
      "20000/20000 [==============================] - 361s - loss: 58.1283   \n",
      "Epoch 11/40\n",
      "20000/20000 [==============================] - 363s - loss: 54.8720   \n",
      "Epoch 12/40\n",
      "20000/20000 [==============================] - 363s - loss: 52.6134   \n",
      "Epoch 13/40\n",
      "20000/20000 [==============================] - 362s - loss: 48.2689   \n",
      "Epoch 14/40\n",
      "20000/20000 [==============================] - 358s - loss: 45.9779   \n",
      "Epoch 15/40\n",
      "20000/20000 [==============================] - 361s - loss: 43.5548   \n",
      "Epoch 16/40\n",
      "20000/20000 [==============================] - 358s - loss: 40.5139   \n",
      "Epoch 17/40\n",
      "20000/20000 [==============================] - 357s - loss: 39.1473   \n",
      "Epoch 18/40\n",
      "20000/20000 [==============================] - 356s - loss: 37.6193   \n",
      "Epoch 19/40\n",
      "20000/20000 [==============================] - 356s - loss: 34.5374   \n",
      "Epoch 20/40\n",
      "20000/20000 [==============================] - 356s - loss: 32.4032   \n",
      "Epoch 21/40\n",
      "20000/20000 [==============================] - 354s - loss: 33.4544   \n",
      "Epoch 22/40\n",
      "20000/20000 [==============================] - 353s - loss: 32.0124   \n",
      "Epoch 23/40\n",
      "20000/20000 [==============================] - 351s - loss: 30.3843   \n",
      "Epoch 24/40\n",
      "20000/20000 [==============================] - 351s - loss: 31.1714   \n",
      "Epoch 25/40\n",
      "20000/20000 [==============================] - 347s - loss: 30.1106   \n",
      "Epoch 26/40\n",
      "20000/20000 [==============================] - 350s - loss: 28.1302   \n",
      "Epoch 27/40\n",
      "20000/20000 [==============================] - 349s - loss: 27.4075   \n",
      "Epoch 28/40\n",
      "20000/20000 [==============================] - 347s - loss: 27.2737   \n",
      "Epoch 29/40\n",
      "20000/20000 [==============================] - 349s - loss: 26.3006   \n",
      "Epoch 30/40\n",
      "20000/20000 [==============================] - 347s - loss: 27.0337   \n",
      "Epoch 31/40\n",
      "20000/20000 [==============================] - 347s - loss: 25.5253   \n",
      "Epoch 32/40\n",
      "20000/20000 [==============================] - 349s - loss: 23.3520   \n",
      "Epoch 33/40\n",
      "20000/20000 [==============================] - 346s - loss: 23.5414   \n",
      "Epoch 34/40\n",
      "20000/20000 [==============================] - 345s - loss: 23.3457   \n",
      "Epoch 35/40\n",
      "20000/20000 [==============================] - 343s - loss: 23.6219   \n",
      "Epoch 36/40\n",
      "20000/20000 [==============================] - 346s - loss: 23.0662   \n",
      "Epoch 37/40\n",
      "20000/20000 [==============================] - 348s - loss: 21.2393   \n",
      "Epoch 38/40\n",
      "20000/20000 [==============================] - 346s - loss: 21.4307   \n",
      "Epoch 39/40\n",
      "20000/20000 [==============================] - 344s - loss: 22.6352   \n",
      "Epoch 40/40\n",
      "20000/20000 [==============================] - 346s - loss: 22.0656   \n"
     ]
    },
    {
     "data": {
      "text/plain": [
       "<keras.callbacks.History at 0x1830cca20>"
      ]
     },
     "execution_count": 12,
     "metadata": {},
     "output_type": "execute_result"
    }
   ],
   "source": [
    "history = LossHistory()\n",
    "autoencoder.fit(observations, observations,\n",
    "                nb_epoch=40,\n",
    "                batch_size=32,\n",
    "                shuffle=True,\n",
    "                callbacks=[history])"
   ]
  },
  {
   "cell_type": "code",
   "execution_count": 25,
   "metadata": {
    "collapsed": false
   },
   "outputs": [
    {
     "data": {
      "text/plain": [
       "<matplotlib.image.AxesImage at 0x18389a748>"
      ]
     },
     "execution_count": 25,
     "metadata": {},
     "output_type": "execute_result"
    },
    {
     "data": {
      "image/png": "[encoded data removed]",
      "text/plain": [
       "<matplotlib.figure.Figure at 0x18111fe48>"
      ]
     },
     "metadata": {},
     "output_type": "display_data"
    }
   ],
   "source": [
    "plt.imshow(autoencoder.predict(np.array([observations[25]]))[0, 0], interpolation='Nearest')"
   ]
  },
  {
   "cell_type": "code",
   "execution_count": 26,
   "metadata": {
    "collapsed": false
   },
   "outputs": [
    {
     "data": {
      "text/plain": [
       "<matplotlib.image.AxesImage at 0x18510b710>"
      ]
     },
     "execution_count": 26,
     "metadata": {},
     "output_type": "execute_result"
    },
    {
     "data": {
      "image/png": "[encoded data removed]",
      "text/plain": [
       "<matplotlib.figure.Figure at 0x1836b8e80>"
      ]
     },
     "metadata": {},
     "output_type": "display_data"
    }
   ],
   "source": [
    "plt.imshow(observations[25][0], interpolation='Nearest')"
   ]
  },
  {
   "cell_type": "code",
   "execution_count": 29,
   "metadata": {
    "collapsed": false
   },
   "outputs": [
    {
     "data": {
      "image/png": "[encoded data removed]",
      "text/plain": [
       "<matplotlib.figure.Figure at 0x1947aa0f0>"
      ]
     },
     "metadata": {},
     "output_type": "display_data"
    }
   ],
   "source": [
    "plt.plot(history.losses)\n",
    "plt.show()"
   ]
  },
  {
   "cell_type": "code",
   "execution_count": 27,
   "metadata": {
    "collapsed": true
   },
   "outputs": [],
   "source": [
    "autoencoder.save_weights('./data/Autoencoder_21_01.h5')\n",
    "autoencoder.to_json()\n",
    "import json\n",
    "with open('./data/Autoencoder_21_01.txt', 'w') as outfile:\n",
    "    json.dump(autoencoder.to_json(), outfile)"
   ]
  },
  {
   "cell_type": "code",
   "execution_count": 28,
   "metadata": {
    "collapsed": true
   },
   "outputs": [],
   "source": [
    "encoder.save_weights('./data/Encoder_21_01.h5')\n",
    "autoencoder.to_json()\n",
    "import json\n",
    "with open('./data/Encoder_21_01.txt', 'w') as outfile:\n",
    "    json.dump(encoder.to_json(), outfile)"
   ]
  },
  {
   "cell_type": "code",
   "execution_count": null,
   "metadata": {
    "collapsed": true
   },
   "outputs": [],
   "source": [
    "sample_features = encoder.predict(observations)\n",
    "np.savez('./data/sample_features_20k.npz', sample_features)"
   ]
  },
  {
   "cell_type": "markdown",
   "metadata": {},
   "source": [
    "## Check overfit"
   ]
  },
  {
   "cell_type": "code",
   "execution_count": 13,
   "metadata": {
    "collapsed": false
   },
   "outputs": [],
   "source": [
    "from keras.models import model_from_json\n",
    "import json\n",
    "\n",
    "with open('./data/Autoencoder_21_01.txt', 'r') as model_file:\n",
    "     model = model_from_json(json.loads(next(model_file)))\n",
    "        \n",
    "model.load_weights('./data/Autoencoder_21_01.h5')"
   ]
  },
  {
   "cell_type": "code",
   "execution_count": 19,
   "metadata": {
    "collapsed": false
   },
   "outputs": [
    {
     "name": "stderr",
     "output_type": "stream",
     "text": [
      "INFO:gym.envs.registration:Making new env: Skiing-v0\n",
      "[2017-01-21 17:39:47,955] Making new env: Skiing-v0\n"
     ]
    },
    {
     "name": "stdout",
     "output_type": "stream",
     "text": [
      "100\n",
      "200\n",
      "300\n",
      "400\n",
      "500\n",
      "600\n",
      "700\n",
      "800\n",
      "900\n",
      "1000\n"
     ]
    },
    {
     "name": "stderr",
     "output_type": "stream",
     "text": [
      "/Users/IzmailovPavel/Documents/Education/Programming/Machine Learning/rl/deephack/Object_detection_features.py:211: VisibleDeprecationWarning: using a non-integer number instead of an integer will result in an error in the future\n",
      "  new_image[x_low - 1:x_top + 1, y_left - 1:y_right + 1] = color\n"
     ]
    }
   ],
   "source": [
    "max_observations = 1000\n",
    "test_observations = []\n",
    "render = False\n",
    "count = 0\n",
    "\n",
    "env_name = 'Skiing-v0'\n",
    "env = gym.make(env_name)\n",
    "\n",
    "while True:\n",
    "    if len(test_observations) >= max_observations: break\n",
    "    s = env.reset()\n",
    "    if count % 10 == 0:\n",
    "        observation = env.ale.getScreenGrayscale()\n",
    "        test_observations.append(odf.get_simple_image(rgb2gray(observation[:, :, 0])))\n",
    "    count += 1\n",
    "    done = False\n",
    "\n",
    "    while not done:\n",
    "        if render: env.render()\n",
    "        if len(test_observations) >= max_observations: break\n",
    "        a = env.action_space.sample()\n",
    "        s, r, done, _ = env.step(a)\n",
    "        if count % 10 == 0:\n",
    "            observation = env.ale.getScreenGrayscale()\n",
    "            test_observations.append(odf.get_simple_image(rgb2gray(observation[:, :, 0])))\n",
    "            if not len(test_observations) % 100:\n",
    "                print(len(test_observations))\n",
    "        a = env.action_space.sample()\n",
    "        count += 1\n",
    "        \n",
    "env.close()"
   ]
  },
  {
   "cell_type": "code",
   "execution_count": 21,
   "metadata": {
    "collapsed": false
   },
   "outputs": [
    {
     "data": {
      "text/plain": [
       "<matplotlib.image.AxesImage at 0x14c470048>"
      ]
     },
     "execution_count": 21,
     "metadata": {},
     "output_type": "execute_result"
    },
    {
     "data": {
      "image/png": "[encoded data removed]",
      "text/plain": [
       "<matplotlib.figure.Figure at 0x14c3f69b0>"
      ]
     },
     "metadata": {},
     "output_type": "display_data"
    }
   ],
   "source": [
    "plt.imshow(test_observations[100], interpolation='Nearest')"
   ]
  },
  {
   "cell_type": "code",
   "execution_count": 22,
   "metadata": {
    "collapsed": true
   },
   "outputs": [],
   "source": [
    "test_observations = np.array(test_observations)"
   ]
  },
  {
   "cell_type": "code",
   "execution_count": 23,
   "metadata": {
    "collapsed": false
   },
   "outputs": [],
   "source": [
    "test_observations = test_observations.reshape(1000, 1, 60, 60)"
   ]
  },
  {
   "cell_type": "code",
   "execution_count": 26,
   "metadata": {
    "collapsed": false
   },
   "outputs": [],
   "source": [
    "predicted = model.predict(test_observations)"
   ]
  },
  {
   "cell_type": "code",
   "execution_count": 28,
   "metadata": {
    "collapsed": false
   },
   "outputs": [
    {
     "data": {
      "text/plain": [
       "33.052939185961904"
      ]
     },
     "execution_count": 28,
     "metadata": {},
     "output_type": "execute_result"
    }
   ],
   "source": [
    "np.linalg.norm(predicted - test_observations)**2 / test_observations.size"
   ]
  },
  {
   "cell_type": "code",
   "execution_count": 29,
   "metadata": {
    "collapsed": false
   },
   "outputs": [
    {
     "data": {
      "text/plain": [
       "<matplotlib.image.AxesImage at 0x14ed45710>"
      ]
     },
     "execution_count": 29,
     "metadata": {},
     "output_type": "execute_result"
    },
    {
     "data": {
      "image/png": "[encoded data removed]",
      "text/plain": [
       "<matplotlib.figure.Figure at 0x13db86080>"
      ]
     },
     "metadata": {},
     "output_type": "display_data"
    }
   ],
   "source": [
    "plt.imshow(test_observations[25][0], interpolation='Nearest')"
   ]
  },
  {
   "cell_type": "code",
   "execution_count": 31,
   "metadata": {
    "collapsed": false
   },
   "outputs": [
    {
     "data": {
      "text/plain": [
       "<matplotlib.image.AxesImage at 0x157605518>"
      ]
     },
     "execution_count": 31,
     "metadata": {},
     "output_type": "execute_result"
    },
    {
     "data": {
      "image/png": "[encoded data removed]",
      "text/plain": [
       "<matplotlib.figure.Figure at 0x14ed55668>"
      ]
     },
     "metadata": {},
     "output_type": "display_data"
    }
   ],
   "source": [
    "plt.imshow(model.predict(np.array([test_observations[25]]))[0, 0], interpolation='Nearest')"
   ]
  },
  {
   "cell_type": "code",
   "execution_count": null,
   "metadata": {
    "collapsed": true
   },
   "outputs": [],
   "source": []
  }
 ],
 "metadata": {
  "kernelspec": {
   "display_name": "Python 2",
   "language": "python",
   "name": "python2"
  },
  "language_info": {
   "codemirror_mode": {
    "name": "ipython",
    "version": 2
   },
   "file_extension": ".py",
   "mimetype": "text/x-python",
   "name": "python",
   "nbconvert_exporter": "python",
   "pygments_lexer": "ipython2",
   "version": "2.7.12"
  }
 },
 "nbformat": 4,
 "nbformat_minor": 0
}
