{
 "cells": [
  {
   "cell_type": "markdown",
   "metadata": {},
   "source": [
    "# DeepHack course on RL. Assignment 4.\n",
    "# MC. TD. TD($\\lambda$)"
   ]
  },
  {
   "cell_type": "code",
   "execution_count": 1,
   "metadata": {
    "collapsed": true
   },
   "outputs": [],
   "source": [
    "import matplotlib.pyplot as plt\n",
    "from IPython.display import display\n",
    "from gym import wrappers\n",
    "import numpy as np\n",
    "\n",
    "import gym\n",
    "%matplotlib inline"
   ]
  },
  {
   "cell_type": "markdown",
   "metadata": {},
   "source": [
    "We will use the frozen-lake environment"
   ]
  },
  {
   "cell_type": "code",
   "execution_count": 2,
   "metadata": {
    "collapsed": false
   },
   "outputs": [
    {
     "name": "stderr",
     "output_type": "stream",
     "text": [
      "INFO:gym.envs.registration:Making new env: FrozenLake8x8-v0\n",
      "[2017-01-02 15:57:18,930] Making new env: FrozenLake8x8-v0\n"
     ]
    }
   ],
   "source": [
    "env = gym.make('FrozenLake8x8-v0')"
   ]
  },
  {
   "cell_type": "markdown",
   "metadata": {},
   "source": [
    "Our goal will be to approximate the value function for the fully-random policy, using three different techniques."
   ]
  },
  {
   "cell_type": "markdown",
   "metadata": {},
   "source": [
    "## Monte Carlo\n",
    "This method uses the following update formula.\n",
    "\n",
    "$$v(s_t) = v(s_t) + \\frac 1 {N(s_t)}(G_t - v(s_t)),$$\n",
    "\n",
    "where $v$ is the value function, $N(s_t)$ is the number of times the state $s_t$ has been visited and $G_t$ is the return at time step $t$. The method operates as follows. We observe trajectories for the given policy (in case of the on-policy method, which we consider here), and after the end of an episode, we update the value function, according to the specified rule, using the observed values of $G_t$."
   ]
  },
  {
   "cell_type": "code",
   "execution_count": 27,
   "metadata": {
    "collapsed": false,
    "scrolled": true
   },
   "outputs": [
    {
     "name": "stdout",
     "output_type": "stream",
     "text": [
      "\u001b[41mS\u001b[0mFFFFFFF\n",
      "FFFFFFFF\n",
      "FFFHFFFF\n",
      "FFFFFHFF\n",
      "FFFHFFFF\n",
      "FHHFFFHF\n",
      "FHFFHFHF\n",
      "FFFHFFFG\n",
      "  (Left)\n"
     ]
    },
    {
     "data": {
      "text/plain": [
       "<IPython.kernel.zmq.iostream.OutStream at 0x1060d9390>"
      ]
     },
     "execution_count": 27,
     "metadata": {},
     "output_type": "execute_result"
    }
   ],
   "source": [
    "env.reset()\n",
    "env.render()"
   ]
  },
  {
   "cell_type": "markdown",
   "metadata": {},
   "source": [
    "Let's look, how many times we visit each state for 1000 episodes."
   ]
  },
  {
   "cell_type": "code",
   "execution_count": 24,
   "metadata": {
    "collapsed": false
   },
   "outputs": [
    {
     "name": "stdout",
     "output_type": "stream",
     "text": [
      "Playing episode: 0\n",
      "Playing episode: 100\n",
      "Playing episode: 200\n",
      "Playing episode: 300\n",
      "Playing episode: 400\n",
      "Playing episode: 500\n",
      "Playing episode: 600\n",
      "Playing episode: 700\n",
      "Playing episode: 800\n",
      "Playing episode: 900\n"
     ]
    }
   ],
   "source": [
    "n_runs = 1000\n",
    "num_visited = np.zeros((env.nS, 1))\n",
    "for i_episode in range(n_runs):\n",
    "    num_visited_cur = np.zeros((env.nS, 1))\n",
    "    observation = env.reset()\n",
    "    num_visited_cur[observation] = 1\n",
    "    if not i_episode % 100:\n",
    "        print('Playing episode:', i_episode)\n",
    "    for t in range(500):\n",
    "        \n",
    "        action = env.action_space.sample()\n",
    "        observation, reward, done, info = env.step(action)\n",
    "        num_visited_cur[observation] = 1\n",
    "        if done:\n",
    "#             print(\"Episode finished after {} timesteps\".format(t+1))\n",
    "            break\n",
    "    num_visited += num_visited_cur\n",
    "    "
   ]
  },
  {
   "cell_type": "code",
   "execution_count": 25,
   "metadata": {
    "collapsed": false,
    "scrolled": true
   },
   "outputs": [
    {
     "data": {
      "text/plain": [
       "array([[ 1000.,   822.,   603.,   396.,   237.,   134.,    87.,    63.],\n",
       "       [  773.,   775.,   672.,   429.,   244.,   141.,   104.,    69.],\n",
       "       [  572.,   628.,   558.,   507.,   130.,    99.,    79.,    63.],\n",
       "       [  401.,   447.,   336.,   126.,    68.,    79.,    54.,    39.],\n",
       "       [  247.,   287.,   209.,   122.,    22.,    13.,    30.,    22.],\n",
       "       [  132.,   155.,    63.,     3.,     7.,     6.,    18.,     9.],\n",
       "       [   64.,    48.,     2.,     1.,     4.,     0.,     1.,     5.],\n",
       "       [   21.,    11.,     5.,     0.,     0.,     0.,     0.,     3.]])"
      ]
     },
     "execution_count": 25,
     "metadata": {},
     "output_type": "execute_result"
    }
   ],
   "source": [
    "num_visited.reshape((8,8))"
   ]
  },
  {
   "cell_type": "markdown",
   "metadata": {},
   "source": [
    "Let's load the actual value function, computed by DP."
   ]
  },
  {
   "cell_type": "code",
   "execution_count": 117,
   "metadata": {
    "collapsed": true
   },
   "outputs": [],
   "source": [
    "true_v = np.load('true_value.npy')"
   ]
  },
  {
   "cell_type": "code",
   "execution_count": 122,
   "metadata": {
    "collapsed": true
   },
   "outputs": [],
   "source": [
    "def MC(n_runs, print_freq=0.1, v0=None, true_v=None):\n",
    "    norms = []\n",
    "    v = v0 or np.zeros((env.nS, 1))\n",
    "    n_visited = np.zeros_like(v)\n",
    "    if true_v is not None:\n",
    "        v[env.nS-1] = 0\n",
    "        norms.append(np.linalg.norm(v - true_v))\n",
    "    for i_episode in range(n_runs):\n",
    "        visited_cur = np.zeros((env.nS, 1))\n",
    "        observation = env.reset()\n",
    "        num_visited_cur[observation] = 1\n",
    "        if not i_episode % int(n_runs * print_freq):\n",
    "            print('Playing episode:', i_episode)\n",
    "        \n",
    "        for t in range(500):\n",
    "            action = env.action_space.sample()\n",
    "            observation, reward, done, info = env.step(action)\n",
    "            visited_cur[observation] = 1\n",
    "            if done:\n",
    "                break\n",
    "                \n",
    "        n_visited += visited_cur\n",
    "        v[np.where(visited_cur)] += 1/n_visited[np.where(visited_cur)] * (reward - v[np.where(visited_cur)])\n",
    "        if true_v is not None:\n",
    "            v[env.nS-1] = 0\n",
    "            norms.append(np.linalg.norm(v - true_v))\n",
    "    v[env.nS-1] = 0\n",
    "    if true_v is not None:\n",
    "        return v, norms\n",
    "    return v"
   ]
  },
  {
   "cell_type": "code",
   "execution_count": 125,
   "metadata": {
    "collapsed": false
   },
   "outputs": [
    {
     "name": "stdout",
     "output_type": "stream",
     "text": [
      "Playing episode: 0\n",
      "Playing episode: 10000\n",
      "Playing episode: 20000\n",
      "Playing episode: 30000\n",
      "Playing episode: 40000\n",
      "Playing episode: 50000\n",
      "Playing episode: 60000\n",
      "Playing episode: 70000\n",
      "Playing episode: 80000\n",
      "Playing episode: 90000\n"
     ]
    }
   ],
   "source": [
    "v, norms = MC(n_runs=100000, true_v=true_v)"
   ]
  },
  {
   "cell_type": "code",
   "execution_count": 126,
   "metadata": {
    "collapsed": false
   },
   "outputs": [
    {
     "data": {
      "text/plain": [
       "<matplotlib.colorbar.Colorbar at 0x11348c908>"
      ]
     },
     "execution_count": 126,
     "metadata": {},
     "output_type": "execute_result"
    },
    {
     "data": {
      "image/png": "[encoded data removed]",
      "text/plain": [
       "<matplotlib.figure.Figure at 0x1130c7908>"
      ]
     },
     "metadata": {},
     "output_type": "display_data"
    }
   ],
   "source": [
    "plt.imshow(v.reshape((8,8)), interpolation='nearest')\n",
    "plt.colorbar()"
   ]
  },
  {
   "cell_type": "code",
   "execution_count": 127,
   "metadata": {
    "collapsed": false
   },
   "outputs": [
    {
     "data": {
      "text/plain": [
       "<matplotlib.legend.Legend at 0x113064ac8>"
      ]
     },
     "execution_count": 127,
     "metadata": {},
     "output_type": "execute_result"
    },
    {
     "data": {
      "image/png": "[encoded data removed]",
      "text/plain": [
       "<matplotlib.figure.Figure at 0x113497940>"
      ]
     },
     "metadata": {},
     "output_type": "display_data"
    }
   ],
   "source": [
    "plt.plot(norms, label='simple MC')\n",
    "plt.ylabel('Error of value function prediction')\n",
    "plt.xlabel('Number of viewed episodes')\n",
    "plt.legend()"
   ]
  },
  {
   "cell_type": "code",
   "execution_count": 128,
   "metadata": {
    "collapsed": true
   },
   "outputs": [],
   "source": [
    "simple_mc_norms = norms"
   ]
  },
  {
   "cell_type": "markdown",
   "metadata": {},
   "source": [
    "#### Constant-$\\alpha$ MC\n",
    "\n",
    "This method uses the following update formula.\n",
    "\n",
    "$$v(s_t) = v(s_t) + \\alpha(G_t - v(s_t)).$$\n",
    "\n",
    "This method would still converge for a good value of $\\alpha$ in case of a slowly changing environment."
   ]
  },
  {
   "cell_type": "code",
   "execution_count": 139,
   "metadata": {
    "collapsed": false
   },
   "outputs": [],
   "source": [
    "def constant_alpha_MC(n_runs, alpha, print_freq=0.1, v0=None, true_v=None):\n",
    "    norms = []\n",
    "    v = v0 or np.zeros((env.nS, 1))\n",
    "    if true_v is not None:\n",
    "        v[env.nS-1] = 0\n",
    "        norms.append(np.linalg.norm(v - true_v))\n",
    "    for i_episode in range(n_runs):\n",
    "        visited_cur = np.zeros((env.nS, 1))\n",
    "        observation = env.reset()\n",
    "        num_visited_cur[observation] = 1\n",
    "        if not i_episode % int(n_runs * print_freq):\n",
    "            print('Playing episode:', i_episode)\n",
    "        \n",
    "        for t in range(500):\n",
    "            action = env.action_space.sample()\n",
    "            observation, reward, done, info = env.step(action)\n",
    "            visited_cur[observation] = 1\n",
    "            if done:\n",
    "                break\n",
    "        v[np.where(visited_cur)] += alpha * (reward - v[np.where(visited_cur)])\n",
    "        if true_v is not None:\n",
    "            v[env.nS-1] = 0\n",
    "            norms.append(np.linalg.norm(v - true_v))\n",
    "    v[env.nS-1] = 0\n",
    "    if true_v is not None:\n",
    "        return v, norms\n",
    "    return v\n",
    "    "
   ]
  },
  {
   "cell_type": "markdown",
   "metadata": {},
   "source": [
    "Let's learn the value function with MC method."
   ]
  },
  {
   "cell_type": "code",
   "execution_count": 102,
   "metadata": {
    "collapsed": false
   },
   "outputs": [
    {
     "name": "stdout",
     "output_type": "stream",
     "text": [
      "(64, 1)\n",
      "Playing episode: 0\n",
      "Playing episode: 10000\n",
      "Playing episode: 20000\n",
      "Playing episode: 30000\n",
      "Playing episode: 40000\n",
      "Playing episode: 50000\n",
      "Playing episode: 60000\n",
      "Playing episode: 70000\n",
      "Playing episode: 80000\n",
      "Playing episode: 90000\n"
     ]
    }
   ],
   "source": [
    "v = constant_alpha_MC(n_runs=100000, alpha=1e-1)"
   ]
  },
  {
   "cell_type": "code",
   "execution_count": 106,
   "metadata": {
    "collapsed": false
   },
   "outputs": [
    {
     "data": {
      "text/plain": [
       "<matplotlib.colorbar.Colorbar at 0x1108777b8>"
      ]
     },
     "execution_count": 106,
     "metadata": {},
     "output_type": "execute_result"
    },
    {
     "data": {
      "image/png": "[encoded data removed]",
      "text/plain": [
       "<matplotlib.figure.Figure at 0x110da15f8>"
      ]
     },
     "metadata": {},
     "output_type": "display_data"
    }
   ],
   "source": [
    "plt.imshow(v.reshape((8,8)), interpolation='nearest')\n",
    "plt.colorbar()"
   ]
  },
  {
   "cell_type": "markdown",
   "metadata": {},
   "source": [
    "Now let us compare it with the true value function, computed by DP"
   ]
  },
  {
   "cell_type": "code",
   "execution_count": 107,
   "metadata": {
    "collapsed": false
   },
   "outputs": [
    {
     "data": {
      "text/plain": [
       "<matplotlib.colorbar.Colorbar at 0x11094ec18>"
      ]
     },
     "execution_count": 107,
     "metadata": {},
     "output_type": "execute_result"
    },
    {
     "data": {
      "image/png": "[encoded data removed]",
      "text/plain": [
       "<matplotlib.figure.Figure at 0x110854400>"
      ]
     },
     "metadata": {},
     "output_type": "display_data"
    }
   ],
   "source": [
    "plt.imshow((true_v - v).reshape((8,8)), interpolation='nearest')\n",
    "plt.colorbar()"
   ]
  },
  {
   "cell_type": "markdown",
   "metadata": {},
   "source": [
    "Let us compare the method's performance with different alpha"
   ]
  },
  {
   "cell_type": "code",
   "execution_count": 109,
   "metadata": {
    "collapsed": false
   },
   "outputs": [
    {
     "name": "stdout",
     "output_type": "stream",
     "text": [
      "\talpha= 0.5\n",
      "(64, 1)\n",
      "Playing episode: 0\n",
      "Playing episode: 10000\n",
      "Playing episode: 20000\n",
      "Playing episode: 30000\n",
      "Playing episode: 40000\n",
      "Playing episode: 50000\n",
      "Playing episode: 60000\n",
      "Playing episode: 70000\n",
      "Playing episode: 80000\n",
      "Playing episode: 90000\n",
      "\talpha= 0.3\n",
      "(64, 1)\n",
      "Playing episode: 0\n",
      "Playing episode: 10000\n",
      "Playing episode: 20000\n",
      "Playing episode: 30000\n",
      "Playing episode: 40000\n",
      "Playing episode: 50000\n",
      "Playing episode: 60000\n",
      "Playing episode: 70000\n",
      "Playing episode: 80000\n",
      "Playing episode: 90000\n",
      "\talpha= 0.1\n",
      "(64, 1)\n",
      "Playing episode: 0\n",
      "Playing episode: 10000\n",
      "Playing episode: 20000\n",
      "Playing episode: 30000\n",
      "Playing episode: 40000\n",
      "Playing episode: 50000\n",
      "Playing episode: 60000\n",
      "Playing episode: 70000\n",
      "Playing episode: 80000\n",
      "Playing episode: 90000\n",
      "\talpha= 0.01\n",
      "(64, 1)\n",
      "Playing episode: 0\n",
      "Playing episode: 10000\n",
      "Playing episode: 20000\n",
      "Playing episode: 30000\n",
      "Playing episode: 40000\n",
      "Playing episode: 50000\n",
      "Playing episode: 60000\n",
      "Playing episode: 70000\n",
      "Playing episode: 80000\n",
      "Playing episode: 90000\n",
      "\talpha= 0.001\n",
      "(64, 1)\n",
      "Playing episode: 0\n",
      "Playing episode: 10000\n",
      "Playing episode: 20000\n",
      "Playing episode: 30000\n",
      "Playing episode: 40000\n",
      "Playing episode: 50000\n",
      "Playing episode: 60000\n",
      "Playing episode: 70000\n",
      "Playing episode: 80000\n",
      "Playing episode: 90000\n"
     ]
    }
   ],
   "source": [
    "norms_alpha = []\n",
    "alpha_lst = [.5, .3, .1, 1e-2, 1e-3]\n",
    "for alpha in alpha_lst:\n",
    "    print('\\talpha=',alpha)\n",
    "    v, norms = constant_alpha_MC(n_runs=100000, alpha=alpha, true_v=true_v)\n",
    "    norms_alpha.append(norms)"
   ]
  },
  {
   "cell_type": "code",
   "execution_count": 129,
   "metadata": {
    "collapsed": false
   },
   "outputs": [
    {
     "data": {
      "text/plain": [
       "<matplotlib.legend.Legend at 0x11357a3c8>"
      ]
     },
     "execution_count": 129,
     "metadata": {},
     "output_type": "execute_result"
    },
    {
     "data": {
      "image/png": "[encoded data removed]",
      "text/plain": [
       "<matplotlib.figure.Figure at 0x11357a2e8>"
      ]
     },
     "metadata": {},
     "output_type": "display_data"
    }
   ],
   "source": [
    "for norms, alpha in list(zip(norms_alpha, alpha_lst)):\n",
    "    plt.plot(norms, label='alpha '+str(alpha))\n",
    "plt.ylabel('Error of value function prediction')\n",
    "plt.xlabel('Number of viewed episodes')\n",
    "plt.legend()"
   ]
  },
  {
   "cell_type": "markdown",
   "metadata": {},
   "source": [
    "Let us compare the best result with simple MC."
   ]
  },
  {
   "cell_type": "code",
   "execution_count": 135,
   "metadata": {
    "collapsed": false
   },
   "outputs": [
    {
     "data": {
      "text/plain": [
       "<matplotlib.legend.Legend at 0x115983ac8>"
      ]
     },
     "execution_count": 135,
     "metadata": {},
     "output_type": "execute_result"
    },
    {
     "data": {
      "image/png": "[encoded data removed]",
      "text/plain": [
       "<matplotlib.figure.Figure at 0x115497e80>"
      ]
     },
     "metadata": {},
     "output_type": "display_data"
    }
   ],
   "source": [
    "plt.plot(norms_alpha[3], 'r', label='alpha '+str(alpha_lst[3]))\n",
    "plt.plot(simple_mc_norms, 'b', label='Simple MC')\n",
    "plt.ylabel('Error of value function prediction')\n",
    "plt.xlabel('Number of viewed episodes')\n",
    "plt.legend()"
   ]
  },
  {
   "cell_type": "markdown",
   "metadata": {},
   "source": [
    "## Temporal-Difference\n",
    "This method is similar to constant-$\\alpha$ MC, but it \"bootstraps\". The update rule is given by\n",
    "\n",
    "$v(s_t) = v(s_t) + \\alpha\\left(r_{t+1} + \\gamma v(s_{t+1}) - v(s_t)\\right).$"
   ]
  },
  {
   "cell_type": "code",
   "execution_count": 141,
   "metadata": {
    "collapsed": true
   },
   "outputs": [],
   "source": [
    "def td(n_runs, alpha, print_freq=0.1, v0=None, true_v=None):\n",
    "    norms = []\n",
    "    v = v0 or np.zeros((env.nS, 1))\n",
    "    if true_v is not None:\n",
    "        norms.append(np.linalg.norm(v - true_v))\n",
    "    for i_episode in range(n_runs):\n",
    "        observation = env.reset()\n",
    "        num_visited_cur[observation] = 1\n",
    "        if not i_episode % int(n_runs * print_freq):\n",
    "            print('Playing episode:', i_episode)\n",
    "        \n",
    "        new_v = np.copy(v)\n",
    "        for t in range(500):\n",
    "            action = env.action_space.sample()\n",
    "            old_observation = observation\n",
    "            observation, reward, done, info = env.step(action)\n",
    "            \n",
    "            new_v[old_observation] += alpha * (reward + v[observation] - v[old_observation])\n",
    "            if done:\n",
    "                break\n",
    "        v = new_v\n",
    "        if true_v is not None:\n",
    "            norms.append(np.linalg.norm(v - true_v))\n",
    "    if true_v is not None:\n",
    "        return v, norms\n",
    "    return v"
   ]
  },
  {
   "cell_type": "code",
   "execution_count": 147,
   "metadata": {
    "collapsed": false
   },
   "outputs": [
    {
     "name": "stdout",
     "output_type": "stream",
     "text": [
      "Playing episode: 0\n",
      "Playing episode: 10000\n",
      "Playing episode: 20000\n",
      "Playing episode: 30000\n",
      "Playing episode: 40000\n",
      "Playing episode: 50000\n",
      "Playing episode: 60000\n",
      "Playing episode: 70000\n",
      "Playing episode: 80000\n",
      "Playing episode: 90000\n"
     ]
    }
   ],
   "source": [
    "v, norms = td(n_runs=100000, alpha=1e-1, true_v=true_v)"
   ]
  },
  {
   "cell_type": "code",
   "execution_count": 148,
   "metadata": {
    "collapsed": false
   },
   "outputs": [
    {
     "data": {
      "text/plain": [
       "<matplotlib.colorbar.Colorbar at 0x11687e0b8>"
      ]
     },
     "execution_count": 148,
     "metadata": {},
     "output_type": "execute_result"
    },
    {
     "data": {
      "image/png": "[encoded data removed]",
      "text/plain": [
       "<matplotlib.figure.Figure at 0x1163c3cc0>"
      ]
     },
     "metadata": {},
     "output_type": "display_data"
    }
   ],
   "source": [
    "plt.imshow(v.reshape((8,8)), interpolation='nearest')\n",
    "plt.colorbar()"
   ]
  },
  {
   "cell_type": "code",
   "execution_count": 150,
   "metadata": {
    "collapsed": false
   },
   "outputs": [
    {
     "data": {
      "text/plain": [
       "<matplotlib.legend.Legend at 0x11689e438>"
      ]
     },
     "execution_count": 150,
     "metadata": {},
     "output_type": "execute_result"
    },
    {
     "data": {
      "image/png": "[encoded data removed]",
      "text/plain": [
       "<matplotlib.figure.Figure at 0x11684a198>"
      ]
     },
     "metadata": {},
     "output_type": "display_data"
    }
   ],
   "source": [
    "plt.plot(norms, label='TD, alpha=0.1')\n",
    "plt.ylabel('Error of value function prediction')\n",
    "plt.xlabel('Number of viewed episodes')\n",
    "plt.legend()"
   ]
  },
  {
   "cell_type": "markdown",
   "metadata": {},
   "source": [
    "## TD($\\lambda$)\n",
    "TD($\\lambda$) method uses an average of $n$-step returns\n",
    "\n",
    "$$G^{(n)}_t = r_{t+1} + \\gamma r_{t+2} + \\ldots + \\gamma^{n-1} r_{t+n} + \\gamma^n v(s_{t+n}).$$\n",
    "\n",
    "The $\\lambda$-return is defined by \n",
    "\n",
    "$$G^{\\lambda}_t = (1 - \\lambda \\sum\\limits_{n=1}^{\\infty} \\lambda^{n-1}G_t^n) = (1 - \\lambda \\sum\\limits_{n=1}^{T - t - 1} \\lambda^{n-1}G_t^n) + \\lambda^{T - t - 1} G_t,$$\n",
    "where $T$ is the terminal state.\n",
    "\n",
    "The method is then defined by\n",
    "$$v(s_t) = v(s_t) + \\alpha \\left(G_t^{\\lambda} - v(s_t)\\right).$$\n",
    "Note that for $\\lambda = 0$ we get the TD method and for $\\lambda = 1$ we get the constant-$\\alpha$ MC method.\n"
   ]
  },
  {
   "cell_type": "code",
   "execution_count": null,
   "metadata": {
    "collapsed": true
   },
   "outputs": [],
   "source": []
  }
 ],
 "metadata": {
  "kernelspec": {
   "display_name": "Python 3",
   "language": "python",
   "name": "python3"
  },
  "language_info": {
   "codemirror_mode": {
    "name": "ipython",
    "version": 3
   },
   "file_extension": ".py",
   "mimetype": "text/x-python",
   "name": "python",
   "nbconvert_exporter": "python",
   "pygments_lexer": "ipython3",
   "version": "3.4.3"
  }
 },
 "nbformat": 4,
 "nbformat_minor": 0
}
